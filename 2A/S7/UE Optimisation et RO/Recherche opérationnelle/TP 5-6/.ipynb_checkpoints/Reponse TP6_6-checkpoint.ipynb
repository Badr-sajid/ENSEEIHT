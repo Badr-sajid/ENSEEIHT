{
 "cells": [
  {
   "cell_type": "markdown",
   "metadata": {},
   "source": [
    "<center>\n",
    "<h1> TP 5-6 de Recherche Opérationnelle </h1>\n",
    "<h1> Année 2020-2021 - 2e année département Sciences du Numérique </h1>\n",
    "<h1> Noms: Sajid - Wissad </h1>\n",
    "<h1> Prénoms: Badr - Mehdi </h1>    \n",
    "</center>"
   ]
  },
  {
   "cell_type": "markdown",
   "metadata": {},
   "source": [
    "# Problème (P1) - contraintes de précédence"
   ]
  },
  {
   "cell_type": "markdown",
   "metadata": {},
   "source": [
    "## 1.2 Modélisation classique par graphe potentiel-tache"
   ]
  },
  {
   "cell_type": "code",
   "execution_count": 2,
   "metadata": {},
   "outputs": [],
   "source": [
    "using JuMP\n",
    "using Clp\n",
    "\n",
    "function bellman_ford_long_chemin(graphes, source)\n",
    "    n = size(graphes)[1]\n",
    "    fk = zeros(n)\n",
    "    fk_1 = zeros(n)\n",
    "  \n",
    "    preds = listpred(graphes)\n",
    "    graphe = -graphes\n",
    "\n",
    "    for i in 1:n\n",
    "      fk_1[i] = Inf\n",
    "    end # for\n",
    "    for k in source\n",
    "        fk_1[k] = -0.\n",
    "    end\n",
    "    \n",
    "  \n",
    "  # Boucle\n",
    "  for k in 1:n\n",
    "    fk = copy(fk_1)\n",
    "    for j in 1:n\n",
    "      for i in preds[j]\n",
    "          if (fk[i] + graphe[i, j] < fk[j])\n",
    "          fk_1[j] = fk[i] + graphe[i, j]\n",
    "          end # if\n",
    "      end # for\n",
    "    end #for\n",
    "\n",
    "    if fk_1 == fk\n",
    "      break\n",
    "    end # if\n",
    "  end #for\n",
    "\n",
    "  fk = -fk\n",
    "\n",
    "  return fk\n",
    "\n",
    "end\n",
    "  \n",
    "function listpred(graphe)\n",
    "    n = size(graphe)[1]\n",
    "    preds = []\n",
    "    for i in 1:n\n",
    "        append!(preds,[[]])\n",
    "    end\n",
    "    for i in 1:n\n",
    "        for j in 1:n\n",
    "            if graphe[i,j] != 0\n",
    "                append!(preds[j],[i])\n",
    "            end # if\n",
    "        end # for\n",
    "    end # for\n",
    "    return preds\n",
    "end;"
   ]
  },
  {
   "cell_type": "code",
   "execution_count": 3,
   "metadata": {},
   "outputs": [
    {
     "name": "stdout",
     "output_type": "stream",
     "text": [
      "\n",
      "\n",
      "Solution GPT :\n",
      " \t t=[0.0, 2.0, 2.0, 5.0, 3.0, 9.0]\t tfin=9.0\n"
     ]
    }
   ],
   "source": [
    "# Test\n",
    "graphe = [0 2 2 0 0 0;\n",
    "          0 0 0 3 0 0;\n",
    "          0 0 0 1 1 0;\n",
    "          0 0 0 0 0 4;\n",
    "          0 0 0 0 0 1;\n",
    "          0 0 0 0 0 0]\n",
    "couple = [\"A\",\"B\",\"C\",\"D\",\"E\",\"F\"]\n",
    "\n",
    "f = bellman_ford_long_chemin(graphe,[1])\n",
    "println(\"\\n\\nSolution GPT :\\n \\t t=\", value.(f), \"\\t tfin=\", value(f[6]))"
   ]
  },
  {
   "cell_type": "markdown",
   "metadata": {},
   "source": [
    "# 2 Job-shop : ordonnancement avec contraintes de précédence et contraintes de ressources"
   ]
  },
  {
   "cell_type": "markdown",
   "metadata": {},
   "source": [
    "## 2.1 Relaxation des contraintes de ressources"
   ]
  },
  {
   "cell_type": "code",
   "execution_count": 1,
   "metadata": {},
   "outputs": [
    {
     "ename": "LoadError",
     "evalue": "UndefVarError: bellman_ford_long_chemin not defined",
     "output_type": "error",
     "traceback": [
      "UndefVarError: bellman_ford_long_chemin not defined",
      "",
      "Stacktrace:",
      " [1] top-level scope at In[1]:11",
      " [2] include_string(::Function, ::Module, ::String, ::String) at ./loading.jl:1091",
      " [3] execute_code(::String, ::String) at /Users/badrsajid/.julia/packages/IJulia/a1SNk/src/execute_request.jl:27",
      " [4] execute_request(::ZMQ.Socket, ::IJulia.Msg) at /Users/badrsajid/.julia/packages/IJulia/a1SNk/src/execute_request.jl:86",
      " [5] #invokelatest#1 at ./essentials.jl:710 [inlined]",
      " [6] invokelatest at ./essentials.jl:709 [inlined]",
      " [7] eventloop(::ZMQ.Socket) at /Users/badrsajid/.julia/packages/IJulia/a1SNk/src/eventloop.jl:8",
      " [8] (::IJulia.var\"#15#18\")() at ./task.jl:356"
     ]
    }
   ],
   "source": [
    "# Test\n",
    "graphe = [0 6 0 0 0 0 0;\n",
    "          0 0 0 0 0 0 7;\n",
    "          0 0 0 0 0 0 0;\n",
    "          0 0 0 0 3 0 0;\n",
    "          0 0 0 0 0 5 0;\n",
    "          0 0 0 0 0 0 1;\n",
    "          0 0 0 0 0 0 0]\n",
    "couple = [\"A1\",\"A2\",\"A3\",\"B1\",\"B2\",\"B3\",\"Fin\"]\n",
    "\n",
    "f = bellman_ford_long_chemin(graphe,[1,4])\n",
    "println(\"\\n\\nSolution GPT :\\n \\t t=\", value.(f), \"\\t tfin=\", value(f[7]))"
   ]
  },
  {
   "cell_type": "code",
   "execution_count": 11,
   "metadata": {},
   "outputs": [],
   "source": [
    "D=[6 7 0; 3 5 1]\n",
    "NbTr = 2\n",
    "NbOp = 3;"
   ]
  },
  {
   "cell_type": "code",
   "execution_count": 10,
   "metadata": {},
   "outputs": [
    {
     "name": "stdout",
     "output_type": "stream",
     "text": [
      "Min tfin\n",
      "Subject to\n",
      " -t[1,1] + t[1,2] ≥ 6.0\n",
      " -t[1,2] + t[1,3] ≥ 7.0\n",
      " -t[2,1] + t[2,2] ≥ 3.0\n",
      " -t[2,2] + t[2,3] ≥ 5.0\n",
      " -t[2,3] + tfin ≥ 1.0\n",
      " -t[1,3] + tfin ≥ 0.0\n",
      " t[1,1] ≥ 0.0\n",
      " t[2,1] ≥ 0.0\n",
      " t[1,2] ≥ 0.0\n",
      " t[2,2] ≥ 0.0\n",
      " t[1,3] ≥ 0.0\n",
      " t[2,3] ≥ 0.0\n",
      "\n",
      "start solve ... ... end solve\n",
      "\n",
      "Solution PL:\n",
      " \t t=[0.0 6.0 13.0; 0.0 3.0 8.0]\t tfin=13.0\n"
     ]
    }
   ],
   "source": [
    "using JuMP\n",
    "using Clp\n",
    "\n",
    "model = Model(Clp.Optimizer) # set optimizer\n",
    "set_optimizer_attribute(model, \"LogLevel\", 0) #don't display anything during solve\n",
    "set_optimizer_attribute(model, \"Algorithm\", 4) #LP solver chosen is simplex\n",
    "\n",
    "# define t variables\n",
    "@variable(model, t[1:NbTr, 1:NbOp] >= 0)\n",
    "@variable(model, tfin)\n",
    "\n",
    "# define objective function\n",
    "@objective(model, Min, tfin)\n",
    "\n",
    "# define constraints: t_j - t_i  >= D[i], \\forall i predecesseur de j\n",
    "@constraint(model, t[1,2] - t[1,1] >= D[1,1] )\n",
    "@constraint(model, t[1,3] - t[1,2] >= D[1,2] )\n",
    "@constraint(model, t[2,2] - t[2,1] >= D[2,1] )\n",
    "@constraint(model, t[2,3] - t[2,2] >= D[2,2] )\n",
    "\n",
    "\n",
    "#define constraints: tfin - t_i >= Duree[i], \\forall i predecesseur de j\n",
    "@constraint(model, tfin - t[2,3] >= D[2,3] )\n",
    "@constraint(model, tfin - t[1,3] >= D[1,3] )\n",
    "\n",
    "println(model)\n",
    "\n",
    "print(\"start solve ... \")\n",
    "optimize!(model)\n",
    "print(\"... end solve\")\n",
    "\n",
    "\n",
    "println(\"\\n\\nSolution PL:\\n \\t t=\", value.(t), \"\\t tfin=\", value(tfin))"
   ]
  },
  {
   "cell_type": "markdown",
   "metadata": {},
   "source": [
    "## 2.2 Modélisation des contraintes de ressources"
   ]
  },
  {
   "cell_type": "markdown",
   "metadata": {},
   "source": [
    "### 2.2.2 Méthode des graphes disjonctifs"
   ]
  },
  {
   "cell_type": "code",
   "execution_count": 23,
   "metadata": {},
   "outputs": [
    {
     "data": {
      "text/plain": [
       "listpred (generic function with 1 method)"
      ]
     },
     "execution_count": 23,
     "metadata": {},
     "output_type": "execute_result"
    }
   ],
   "source": [
    "using JuMP\n",
    "function bellman_ford_long_chemin(graphe, graphe_dis, source,debut,couple)\n",
    "    n = size(graphe)[1]\n",
    "    fk = zeros(n)\n",
    "    fk_1 = zeros(n)\n",
    "  \n",
    "    preds = listpred(graphe)\n",
    "    for i in source\n",
    "        append!(preds[i],[debut])\n",
    "    end #for \n",
    "    preds_dis = listpred(graphe_dis)\n",
    "\n",
    "\n",
    "    for i in 1:n\n",
    "      fk_1[i] = -Inf\n",
    "    end # for\n",
    "    for k in source\n",
    "        fk_1[k] = 0\n",
    "    end\n",
    "    fk_1[debut] = 0\n",
    "    \n",
    "  \n",
    "  # Boucle\n",
    "    for iter in 1:n\n",
    "        fk = copy(fk_1)\n",
    "        for j in 1:n\n",
    "            for i in preds[j]\n",
    "                if (fk[i] + graphe[i, j] > fk_1[j]) || (j in source && iter==1)\n",
    "                    if  !isempty(preds_dis[j])\n",
    "                        for k in preds_dis[j]\n",
    "                            if fk_1[j]+graphe_dis[j,k] < fk[k]+graphe_dis[k,j]\n",
    "                                fk_1[j] = min(fk[i] + graphe[i, j] + graphe_dis[k,j],fk[k]+graphe_dis[k,j])\n",
    "                            else\n",
    "                                fk_1[j] = fk_1[i] + graphe[i, j]\n",
    "                            end #if\n",
    "                        end #for\n",
    "                    else\n",
    "                        fk_1[j] = fk_1[i] + graphe[i, j]\n",
    "                    end #if\n",
    "                end # if\n",
    "            end # for\n",
    "        end #for\n",
    "\n",
    "        if fk_1 == fk\n",
    "            break\n",
    "        end # if\n",
    "    end #for\n",
    "\n",
    " \n",
    "\n",
    "  return fk\n",
    "\n",
    "end\n",
    "  \n",
    "function listpred(graphe)\n",
    "    n = size(graphe)[1]\n",
    "    preds = []\n",
    "    for i in 1:n\n",
    "        append!(preds,[[]])\n",
    "    end\n",
    "    for i in 1:n\n",
    "        for j in 1:n\n",
    "            if graphe[i,j] != 0\n",
    "                append!(preds[j],[i])\n",
    "            end # if\n",
    "        end # for\n",
    "    end # for\n",
    "    return preds\n",
    "end"
   ]
  },
  {
   "cell_type": "code",
   "execution_count": 24,
   "metadata": {},
   "outputs": [
    {
     "name": "stdout",
     "output_type": "stream",
     "text": [
      "Solution PSE basée sur le graphe disjonctif :\n",
      "\t\tA1 commence après : 0.0\n",
      "\t\tA2 commence après : 6.0\n",
      "\t\tA3 commence après : -Inf\n",
      "\t\tB1 commence après : 6.0\n",
      "\t\tB2 commence après : 9.0\n",
      "\t\tB3 commence après : 14.0\n",
      "\t\tFin commence après : 15.0\n",
      "\n",
      " tfin = 15.0\n"
     ]
    }
   ],
   "source": [
    "# Test\n",
    "graphe = [0 0 0 0 0 0 0 0\n",
    "          0 0 6 0 0 0 0 0;\n",
    "          0 0 0 0 0 0 0 7;\n",
    "          0 0 0 0 0 0 0 0;\n",
    "          0 0 0 0 0 3 0 0;\n",
    "          0 0 0 0 0 0 5 0;\n",
    "          0 0 0 0 0 0 0 1;\n",
    "          0 0 0 0 0 0 0 0]\n",
    "          \n",
    "graphe_dis = [0 0 0 0 0 0 0 0\n",
    "              0 0 0 0 6 0 0 0;\n",
    "              0 0 0 0 0 0 7 0;\n",
    "              0 0 0 0 0 0 0 0;\n",
    "              0 3 0 0 0 0 0 0;\n",
    "              0 0 0 0 0 0 0 0;\n",
    "              0 0 1 0 0 0 0 0;\n",
    "              0 0 0 0 0 0 0 0]\n",
    "couple = [\"Debut\",\"A1\",\"A2\",\"A3\",\"B1\",\"B2\",\"B3\",\"Fin\"]\n",
    "\n",
    "f = bellman_ford_long_chemin(graphe,graphe_dis,[2,5],1,couple)\n",
    "println(\"Solution PSE basée sur le graphe disjonctif :\")\n",
    "n = size(graphe)[1]\n",
    "for i in 2:n\n",
    "    println(\"\\t\\t\", couple[i], \" commence après : \",f[i])\n",
    "end #for\n",
    "\n",
    "println(\"\\n tfin = \", value(f[8]))"
   ]
  },
  {
   "cell_type": "code",
   "execution_count": null,
   "metadata": {},
   "outputs": [],
   "source": []
  }
 ],
 "metadata": {
  "kernelspec": {
   "display_name": "Julia 1.5.2",
   "language": "julia",
   "name": "julia-1.5"
  },
  "language_info": {
   "file_extension": ".jl",
   "mimetype": "application/julia",
   "name": "julia",
   "version": "1.5.2"
  }
 },
 "nbformat": 4,
 "nbformat_minor": 4
}
