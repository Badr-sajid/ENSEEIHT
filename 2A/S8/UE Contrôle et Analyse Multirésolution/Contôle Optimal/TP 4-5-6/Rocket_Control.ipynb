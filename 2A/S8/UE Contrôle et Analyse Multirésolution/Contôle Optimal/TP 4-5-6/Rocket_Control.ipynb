{
 "cells": [
  {
   "cell_type": "markdown",
   "metadata": {},
   "source": [
    "<center> <h1>Rocket Control</h1> </center>\n",
    "<center> <h2>Réalisation : Habibi Issam - Sajid Badr</h2> </center>"
   ]
  },
  {
   "cell_type": "markdown",
   "metadata": {},
   "source": [
    "**Originally Contributed by**: Iain Dunning"
   ]
  },
  {
   "cell_type": "markdown",
   "metadata": {},
   "source": [
    "This tutorial shows how to solve a nonlinear rocketry control problem.\n",
    "The problem was drawn from the [COPS3](http://www.mcs.anl.gov/~more/cops/cops3.pdf) benchmark."
   ]
  },
  {
   "cell_type": "markdown",
   "metadata": {},
   "source": [
    "Our goal is to maximize the final altitude of a vertically launched rocket. \n",
    "We can control the thrust of the rocket, and must take account of \n",
    "the rocket mass, fuel consumption rate, gravity, and aerodynamic drag."
   ]
  },
  {
   "cell_type": "markdown",
   "metadata": {},
   "source": [
    "Let us consider the basic description of the model (for the full description, \n",
    "including parameters for the rocket, see the COPS3 PDF)"
   ]
  },
  {
   "cell_type": "markdown",
   "metadata": {},
   "source": [
    "### Overview \n",
    "We will use a discretized model of time, with a fixed number of time steps, $n$. \n",
    "We will make the time step size $\\Delta t$, and thus the final time $t_f = n \\cdot \\Delta t$, a variable in the problem. \n",
    "To approximate the derivatives in the problem we will use the [trapezoidal rule](http://en.wikipedia.org/wiki/Trapezoidal_rule)."
   ]
  },
  {
   "cell_type": "markdown",
   "metadata": {},
   "source": [
    "### State and Control \n",
    "We will have three state variables:\n",
    "\n",
    "* Velocity, $v$\n",
    "* Altitude, $h$\n",
    "* Mass of rocket and remaining fuel, $m$\n",
    "\n",
    "and a single control variable, thrust $T$. \n",
    "Our goal is thus to maximize $h(t_f)$. \n",
    "Each of these corresponds to a JuMP variable indexed by the time step."
   ]
  },
  {
   "cell_type": "markdown",
   "metadata": {},
   "source": [
    "### Dynamics\n",
    "We have three equations that control the dynamics of the rocket:\n",
    "\n",
    "Rate of ascent: $$h^\\prime = v$$\n",
    "Acceleration: $$v^\\prime = \\frac{T - D(h,v)}{m} - g(h)$$\n",
    "Rate of mass loss: $$m^\\prime = -\\frac{T}{c}$$\n",
    "\n",
    "where drag $D(h,v)$ is a function of altitude and velocity, and gravity $g(h)$ is a function of altitude."
   ]
  },
  {
   "cell_type": "markdown",
   "metadata": {},
   "source": [
    "These forces are defined as\n",
    "\n",
    "$$D(h,v) = D_c v^2 exp\\left( -h_c \\left( \\frac{h-h(0)}{h(0)} \\right) \\right)$$\n",
    "and\n",
    "$$g(h) = g_0 \\left( \\frac{h(0)}{h} \\right)^2$$\n",
    "\n",
    "The three rate equations correspond to JuMP constraints, \n",
    "and for convenience we will represent the forces with nonlinear expressions."
   ]
  },
  {
   "cell_type": "code",
   "execution_count": 2,
   "metadata": {},
   "outputs": [
    {
     "name": "stderr",
     "output_type": "stream",
     "text": [
      "\u001b[32m\u001b[1m   Updating\u001b[22m\u001b[39m registry at `~/.julia/registries/General`\n",
      "######################################################################### 100,0%\n",
      "\u001b[32m\u001b[1m  Resolving\u001b[22m\u001b[39m package versions...\n",
      "\u001b[32m\u001b[1m  Installed\u001b[22m\u001b[39m METIS_jll ───── v5.1.0+5\n",
      "\u001b[32m\u001b[1m  Installed\u001b[22m\u001b[39m Ipopt_jll ───── v3.13.4+0\n",
      "\u001b[32m\u001b[1m  Installed\u001b[22m\u001b[39m MUMPS_seq_jll ─ v5.2.1+4\n",
      "\u001b[32m\u001b[1m  Installed\u001b[22m\u001b[39m ASL_jll ─────── v0.1.2+0\n",
      "\u001b[32m\u001b[1m  Installed\u001b[22m\u001b[39m Qt_jll ──────── v5.15.2+3\n",
      "\u001b[32m\u001b[1m  Installed\u001b[22m\u001b[39m Ipopt ───────── v0.6.5\n",
      "\u001b[32m\u001b[1m  Installed\u001b[22m\u001b[39m MathProgBase ── v0.7.8\n",
      "\u001b[32m\u001b[1mUpdating\u001b[22m\u001b[39m `~/.julia/environments/v1.5/Project.toml`\n",
      " \u001b[90m [b6b21f68] \u001b[39m\u001b[92m+ Ipopt v0.6.5\u001b[39m\n",
      "\u001b[32m\u001b[1mUpdating\u001b[22m\u001b[39m `~/.julia/environments/v1.5/Manifest.toml`\n",
      " \u001b[90m [ae81ac8f] \u001b[39m\u001b[92m+ ASL_jll v0.1.2+0\u001b[39m\n",
      " \u001b[90m [b6b21f68] \u001b[39m\u001b[92m+ Ipopt v0.6.5\u001b[39m\n",
      " \u001b[90m [9cc047cb] \u001b[39m\u001b[92m+ Ipopt_jll v3.13.4+0\u001b[39m\n",
      " \u001b[90m [d00139f3] \u001b[39m\u001b[92m+ METIS_jll v5.1.0+5\u001b[39m\n",
      " \u001b[90m [d7ed1dd3] \u001b[39m\u001b[92m+ MUMPS_seq_jll v5.2.1+4\u001b[39m\n",
      " \u001b[90m [fdba3010] \u001b[39m\u001b[92m+ MathProgBase v0.7.8\u001b[39m\n",
      " \u001b[90m [ede63266] \u001b[39m\u001b[93m↑ Qt_jll v5.15.2+2 ⇒ v5.15.2+3\u001b[39m\n",
      "\u001b[32m\u001b[1m   Building\u001b[22m\u001b[39m Ipopt → `~/.julia/packages/Ipopt/P1XLY/deps/build.log`\n",
      "┌ Info: Precompiling Ipopt [b6b21f68-93f8-5de0-b562-5493be1d77c9]\n",
      "└ @ Base loading.jl:1278\n"
     ]
    },
    {
     "ename": "LoadError",
     "evalue": "\u001b[91mArgumentError: Package Gadfly not found in current path:\u001b[39m\n\u001b[91m- Run `import Pkg; Pkg.add(\"Gadfly\")` to install the Gadfly package.\u001b[39m\n",
     "output_type": "error",
     "traceback": [
      "\u001b[91mArgumentError: Package Gadfly not found in current path:\u001b[39m\n\u001b[91m- Run `import Pkg; Pkg.add(\"Gadfly\")` to install the Gadfly package.\u001b[39m\n",
      "",
      "Stacktrace:",
      " [1] require(::Module, ::Symbol) at ./loading.jl:893",
      " [2] include_string(::Function, ::Module, ::String, ::String) at ./loading.jl:1091"
     ]
    }
   ],
   "source": [
    "import Pkg; Pkg.add(\"Ipopt\")\n",
    "using JuMP, Ipopt\n",
    "# Can visualize the state and control variables\n",
    "using Gadfly"
   ]
  },
  {
   "cell_type": "markdown",
   "metadata": {},
   "source": [
    "<div class=\"alert alert-info\">\n",
    "\n",
    "**_Work:_**\n",
    "    \n",
    "1. Execute the code and determine the structure of the optimal control.\n",
    "2. Add a constraint $ v(t) \\le 0.1$ and re-execute the code. What have changed?\n",
    "3. Play on the number of steps $n$ and on the discretization (Trapezoidal vs Rectangular integration). \n",
    "      \n",
    "</div>"
   ]
  },
  {
   "cell_type": "code",
   "execution_count": null,
   "metadata": {},
   "outputs": [],
   "source": [
    "# Create JuMP model, using Ipopt as the solver\n",
    "rocket = Model(optimizer_with_attributes(Ipopt.Optimizer, \"print_frequency_iter\" => 1))\n",
    "\n",
    "# Constants\n",
    "# Note that all parameters in the model have been normalized\n",
    "# to be dimensionless. See the COPS3 paper for more info.\n",
    "h_0 = 1    # Initial height\n",
    "v_0 = 0    # Initial velocity\n",
    "m_0 = 1    # Initial mass\n",
    "g_0 = 1    # Gravity at the surface\n",
    "\n",
    "T_c = 3.5  # Used for thrust\n",
    "h_c = 500  # Used for drag\n",
    "v_c = 620  # Used for drag\n",
    "m_c = 0.6  # Fraction of initial mass left at end\n",
    "\n",
    "c     = 0.5 * sqrt(g_0 * h_0)  # Thrust-to-fuel mass\n",
    "m_f   = m_c * m_0              # Final mass\n",
    "D_c   = 0.5 * v_c * m_0 / g_0  # Drag scaling\n",
    "T_max = T_c * g_0 * m_0        # Maximum thrust\n",
    "\n",
    "n = 800   # Time steps\n",
    "\n",
    "@variables(rocket, begin\n",
    "    Δt ≥ 0, (start = 1/n) # Time step\n",
    "    # State variables\n",
    "    v[1:n] ≥ 0            # Velocity\n",
    "    h[1:n] ≥ h_0          # Height\n",
    "    m_f ≤ m[1:n] ≤ m_0    # Mass\n",
    "    # Control\n",
    "    0 ≤ T[1:n] ≤ T_max    # Thrust\n",
    "end)\n",
    "\n",
    "# Objective: maximize altitude at end of time of flight\n",
    "@objective(rocket, Max, h[n])\n",
    "\n",
    "# Initial conditions\n",
    "@constraints(rocket, begin\n",
    "    v[1] == v_0\n",
    "    h[1] == h_0\n",
    "    m[1] == m_0\n",
    "    m[n] == m_f\n",
    "end)\n",
    "\n",
    "# Forces\n",
    "# Drag(h,v) = Dc v^2 exp( -hc * (h - h0) / h0 )\n",
    "@NLexpression(rocket, drag[j = 1:n], D_c * (v[j]^2) * exp(-h_c * (h[j] - h_0) / h_0))\n",
    "# Grav(h)   = go * (h0 / h)^2\n",
    "@NLexpression(rocket, grav[j = 1:n], g_0 * (h_0 / h[j])^2)\n",
    "# Time of flight\n",
    "@NLexpression(rocket, t_f, Δt * n)\n",
    "\n",
    "# Dynamics\n",
    "for j in 2:n\n",
    "    # h' = v\n",
    "    \n",
    "    # Rectangular integration\n",
    "    # @NLconstraint(rocket, h[j] == h[j - 1] + Δt * v[j - 1])\n",
    "    \n",
    "    # Trapezoidal integration\n",
    "    @NLconstraint(rocket,\n",
    "        h[j] == h[j - 1] + 0.5 * Δt * (v[j] + v[j - 1]))\n",
    "\n",
    "    # v' = (T-D(h,v))/m - g(h)\n",
    "    \n",
    "    # Rectangular integration\n",
    "    # @NLconstraint(rocket, v[j] == v[j - 1] + Δt *(\n",
    "    #                 (T[j - 1] - drag[j - 1]) / m[j - 1] - grav[j - 1]))\n",
    "    \n",
    "    # Trapezoidal integration\n",
    "    @NLconstraint(rocket,\n",
    "        v[j] == v[j-1] + 0.5 * Δt * (\n",
    "            (T[j] - drag[j] - m[j] * grav[j]) / m[j] +\n",
    "            (T[j - 1] - drag[j - 1] - m[j - 1] * grav[j - 1]) / m[j - 1]))\n",
    "\n",
    "    # m' = -T/c\n",
    "\n",
    "    # Rectangular integration\n",
    "    # @NLconstraint(rocket, m[j] == m[j - 1] - Δt * T[j - 1] / c)\n",
    "    \n",
    "    # Trapezoidal integration\n",
    "    @NLconstraint(rocket,\n",
    "        m[j] == m[j - 1] - 0.5 * Δt * (T[j] + T[j-1]) / c)\n",
    "end\n",
    "\n",
    "# Solve for the control and state\n",
    "println(\"Solving...\")\n",
    "status = optimize!(rocket)\n",
    "\n",
    "# Display results\n",
    "# println(\"Solver status: \", status)\n",
    "println(\"Max height: \", objective_value(rocket))"
   ]
  },
  {
   "cell_type": "code",
   "execution_count": null,
   "metadata": {},
   "outputs": [],
   "source": [
    "h_plot = plot(x = (1:n) * value.(Δt), y = value.(h)[:], Geom.line,\n",
    "                Guide.xlabel(\"Time (s)\"), Guide.ylabel(\"Altitude\"))\n",
    "m_plot = plot(x = (1:n) * value.(Δt), y = value.(m)[:], Geom.line,\n",
    "                Guide.xlabel(\"Time (s)\"), Guide.ylabel(\"Mass\"))\n",
    "v_plot = plot(x = (1:n) * value.(Δt), y = value.(v)[:], Geom.line,\n",
    "                Guide.xlabel(\"Time (s)\"), Guide.ylabel(\"Velocity\"))\n",
    "T_plot = plot(x = (1:n) * value.(Δt), y = value.(T)[:], Geom.line,\n",
    "                Guide.xlabel(\"Time (s)\"), Guide.ylabel(\"Thrust\"))\n",
    "draw(SVG(6inch, 6inch), vstack(hstack(h_plot, m_plot), hstack(v_plot, T_plot)))"
   ]
  },
  {
   "cell_type": "code",
   "execution_count": null,
   "metadata": {},
   "outputs": [],
   "source": []
  }
 ],
 "metadata": {
  "kernelspec": {
   "display_name": "Julia 1.5.2",
   "language": "julia",
   "name": "julia-1.5"
  },
  "language_info": {
   "file_extension": ".jl",
   "mimetype": "application/julia",
   "name": "julia",
   "version": "1.5.2"
  }
 },
 "nbformat": 4,
 "nbformat_minor": 4
}
