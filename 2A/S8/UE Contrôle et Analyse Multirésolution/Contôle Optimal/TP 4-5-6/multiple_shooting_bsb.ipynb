{
 "cells": [
  {
   "cell_type": "markdown",
   "metadata": {},
   "source": [
    "<center> <h1>Introduction to indirect multiple shooting: the Bang-Singular-Bang case on a turnpike problem </h1> </center>\n",
    "<center> <h2>Réalisation : Habibi Issam - Sajid Badr</h2> </center>"
   ]
  },
  {
   "cell_type": "markdown",
   "metadata": {},
   "source": [
    "* Author: Olivier Cots\n",
    "* Date: March 2021\n",
    "\n",
    "------"
   ]
  },
  {
   "cell_type": "markdown",
   "metadata": {},
   "source": [
    "## I) Description of the optimal control problem"
   ]
  },
  {
   "cell_type": "markdown",
   "metadata": {},
   "source": [
    "We consider the following optimal control problem:\n",
    "\n",
    "$$ \n",
    "    \\left\\{ \n",
    "    \\begin{array}{l}\n",
    "        \\displaystyle J(u)  := \\displaystyle \\int_0^{t_f} x^2(t) \\, \\mathrm{d}t \\longrightarrow \\min \\\\[1.0em]\n",
    "        \\dot{x}(t) = f(x(t), u(t)) := \\displaystyle u(t), \\quad  |u(t)| \\le 1, \\quad t \\in [0, t_f] \\text{ a.e.},    \\\\[1.0em]\n",
    "        x(0) = 1, \\quad x(t_f) = 1/2.\n",
    "    \\end{array}\n",
    "    \\right. \n",
    "$$\n",
    "\n",
    "To this optimal control problem is associated the stationnary optimization problem\n",
    "\n",
    "$$\n",
    "    \\min_{(x, u)} \\{~ x^2 ~ | ~  (x, u) \\in \\mathrm{R} \\times [-1, 1],~ f(x,u) = u = 0\\}.\n",
    "$$\n",
    "\n",
    "The static solution is thus $(x^*, u^*) = (0, 0)$. This solution may be seen as the static pair $(x, u)$ which minimizes the cost $J(u)$ under\n",
    "the constraint $u \\in [-1, 1]$.\n",
    "It is well known that this problem is what we call a *turnpike* optimal control problem.\n",
    "Hence, if the final time $t_f$ is long enough the solution is of the following form: \n",
    "starting from $x(0)=1$, reach as fast as possible the static solution, stay at the static solution as long as possible before reaching\n",
    "the target $x(t_f)=1/2$. In this case, the optimal control would be\n",
    "\n",
    "$$\n",
    "    u(t) = \\left\\{ \n",
    "    \\begin{array}{lll}\n",
    "        -1            & \\text{if} & t \\in [0, t_1],     \\\\[0.5em]\n",
    "        \\phantom{-}0  & \\text{if} & t \\in (t_1, t_2],   \\\\[0.5em]\n",
    "        +1            & \\text{if} & t \\in (t_2, t_f],\n",
    "    \\end{array}\n",
    "    \\right. \n",
    "$$\n",
    "\n",
    "with $0 < t_1 < t_2 < t_f$. We say that the control is *Bang-Singular-Bang*. A Bang arc corresponds to $u \\in \\{-1, 1\\}$ while a singular control corresponds to $u \\in (-1, 1)$. Since the optimal control law is discontinuous, then to solve this optimal control problem by indirect methods and find the *switching times* $t_1$ and $t_2$, we need to implement what we call a *multiple shooting method*. In the next section we introduce a regularization technique to force the control to be in the set $(-1,1)$ and to be smooth. In this context, we will be able to implement a simple shooting method and determine the structure of the optimal control law. Thanks to the simple shooting method, we will have the structure of the optimal control law together with an approximation of the switching times that we will use as initial guess for the multiple shooting method that we present in the last section.\n",
    "\n",
    "<div class=\"alert alert-warning\">\n",
    "\n",
    "**Main goal**\n",
    "\n",
    "Find the switching times $t_1$ and $t_2$ by multiple shooting.\n",
    "    \n",
    "</div>\n",
    "\n",
    "Steps:\n",
    "\n",
    "1. Regularize the problem and solve the regularized problem by simple shooting.\n",
    "2. Determine the structure of the non-regularized optimal control problem, that is the structure Bang-Singular-Bang, and find a good approximation of the switching times and of the initial co-vector.\n",
    "3. Solve the non-regularized optimal control problem by multiple shooting.\n",
    "\n",
    "**_Remark 1._** See this [page](https://ct.gitlabpages.inria.fr/gallery/shooting_tutorials/simple_shooting_general.html) for a general presentation of the simple shooting method.\n",
    "\n",
    "**_Remark 2._** In this particular example, the singular control does not depend on the costate $p$ since it is constant. This happens in low dimension. This could be taken into consideration to simplify the definition of the multiple shooting method. However, to stay general, we will not consider this particular property in this notebook.  \n"
   ]
  },
  {
   "cell_type": "markdown",
   "metadata": {},
   "source": [
    "## II) Regularization and simple shooting"
   ]
  },
  {
   "cell_type": "markdown",
   "metadata": {},
   "source": [
    "We make the following regularization:\n",
    "\n",
    "$$ \n",
    "    \\left\\{ \n",
    "    \\begin{array}{l}\n",
    "        \\displaystyle J(u)  := \\displaystyle \\int_0^{t_f} (x^2(t) - \\varepsilon\\ln(1-u^2(t))) \\, \\mathrm{d}t \\longrightarrow \\min \\\\[1.0em]\n",
    "        \\dot{x}(t) = f(x(t), u(t)) := \\displaystyle u(t), \\quad  |u(t)| \\le 1, \\quad t \\in [0, t_f] \\text{ a.e.},    \\\\[1.0em]\n",
    "        x(0) = 1, \\quad x(t_f) = 1/2.\n",
    "    \\end{array}\n",
    "    \\right. \n",
    "$$\n",
    "\n",
    "Our goal is to determine the structure of the optimal control problem when $(\\varepsilon, t_f) = (0, 2)$. The problem is simpler to solver when $\\varepsilon$ is bigger and $t_f$ is smaller. It is also smooth whenever $\\varepsilon>0$. Hence, we will start by solving the problem for $(\\varepsilon, t_f) = (1, 1)$. In a second step, we will decrease the *penalization term* $\\varepsilon$ and in a final step, we will increase the final time $t_f$ to the final value $2$.\n"
   ]
  },
  {
   "cell_type": "markdown",
   "metadata": {},
   "source": [
    "### Preliminaries"
   ]
  },
  {
   "cell_type": "code",
   "execution_count": 2,
   "metadata": {},
   "outputs": [],
   "source": [
    "# import packages\n",
    "import nutopy as nt\n",
    "import nutopy.tools as tools\n",
    "import nutopy.ocp as ocp\n",
    "import numpy as np\n",
    "import matplotlib.pyplot as plt\n",
    "#plt.rcParams['figure.figsize'] = [10, 5]\n",
    "plt.rcParams['figure.dpi'] = 150"
   ]
  },
  {
   "cell_type": "code",
   "execution_count": 3,
   "metadata": {},
   "outputs": [],
   "source": [
    "# Finite differences function for scalar functionnal\n",
    "# Return f'(x).dx\n",
    "def finite_diff(fun, x, dx, *args, **kwargs):\n",
    "    v_eps = np.finfo(float).eps\n",
    "    t = np.sqrt(v_eps) * np.sqrt(np.maximum(1.0, np.abs(x))) / np.sqrt(np.maximum(1.0, np.abs(dx)))\n",
    "    j = (fun(x + t*dx, *args, **kwargs) - fun(x, *args, **kwargs)) / t\n",
    "    return j"
   ]
  },
  {
   "cell_type": "code",
   "execution_count": 4,
   "metadata": {},
   "outputs": [],
   "source": [
    "# Parameters\n",
    "\n",
    "t0        = 0.0\n",
    "x0        = np.array([1.0])\n",
    "xf_target = np.array([0.5])\n",
    "\n",
    "e_init    = 1.0\n",
    "e_final   = 0.002 #\n",
    "\n",
    "tf_init   = 1.0 # With this value the problem is simpler to solver since the trajectory stay \n",
    "                # less time around the static solution\n",
    "tf_final  = 2.0"
   ]
  },
  {
   "cell_type": "markdown",
   "metadata": {},
   "source": [
    "### Maximized Hamiltonian and its derivatives"
   ]
  },
  {
   "cell_type": "markdown",
   "metadata": {},
   "source": [
    "The pseudo-Hamiltonian is (in the normal case)\n",
    "\n",
    "$$\n",
    "    H(x,p,u,\\varepsilon) = pu - x^2 + \\varepsilon ln(1-u^2).\n",
    "$$\n",
    "\n",
    "Note that we put the parameter $\\varepsilon$ into the arguments of the pseudo-Hamiltonian since we will vary it."
   ]
  },
  {
   "cell_type": "markdown",
   "metadata": {},
   "source": [
    "<div class=\"alert alert-info\">\n",
    "\n",
    "**_Question 1:_**\n",
    "    \n",
    "Give the maximizing control $u[p, \\varepsilon]$, that is the control in feedback form solution of the maximization condition.\n",
    "    \n",
    "</div>"
   ]
  },
  {
   "cell_type": "markdown",
   "metadata": {},
   "source": [
    "**Answer 1:** To complete here (double-click on the line to complete)\n",
    "$$\n",
    "    \\frac{\\partial H}{\\partial u}(x,p,u,\\varepsilon) = p - \\frac{2 \\varepsilon u}{1-u^2}\n",
    "$$\n",
    "To maximize control the $u[p, \\varepsilon]$ we should solve $$ \\frac{\\partial H}{\\partial u} = 0 $$\n",
    "\n",
    "We find that : \n",
    "$$\n",
    "    u_1[p, \\varepsilon] = \\frac{-\\varepsilon - \\sqrt{\\varepsilon^2 + p^2}}{p}\\\\\n",
    "    u_2[p, \\varepsilon] = \\frac{-\\varepsilon + \\sqrt{\\varepsilon^2 + p^2}}{p}\n",
    "$$\n",
    "Since $$ \\forall p,\\varepsilon; u_1[p, \\varepsilon] <= -1 $$\n",
    "Then :\n",
    "$$ u[p, \\varepsilon] = \\frac{-\\varepsilon + \\sqrt{\\varepsilon^2 + p^2}}{p} $$"
   ]
  },
  {
   "cell_type": "markdown",
   "metadata": {},
   "source": [
    "<div class=\"alert alert-info\">\n",
    "\n",
    "**_Question 2:_**\n",
    "    \n",
    "Complete the code of the maximizing control $u[p, \\varepsilon]$ and its derivative with respect to $p$, that is $\\frac{\\partial u}{\\partial p}[p, \\varepsilon]$.\n",
    "    \n",
    "</div>"
   ]
  },
  {
   "cell_type": "code",
   "execution_count": 5,
   "metadata": {},
   "outputs": [],
   "source": [
    "# ----------------------------\n",
    "# Answer 2 to complete here\n",
    "# ----------------------------\n",
    "#\n",
    "# Control in feedback form u[p,e] and its partial derivative wrt. p.\n",
    "#\n",
    "@tools.vectorize(vvars=(1,))\n",
    "def ufun(p, e):\n",
    "    u = (-e + np.sqrt(e**2 + p**2))/p  ### TO COMPLETE\n",
    "    return u\n",
    "\n",
    "def dufun(p, e):\n",
    "    du = (e/p**2)*(1 - (e/(np.sqrt(e**2 + p**2))))  ### TO COMPLETE\n",
    "    return du"
   ]
  },
  {
   "cell_type": "markdown",
   "metadata": {},
   "source": [
    "We give next the maximized Hamiltonian with its derivatives. This permits us to define the flow of the associated Hamiltonian vector field."
   ]
  },
  {
   "cell_type": "code",
   "execution_count": 6,
   "metadata": {},
   "outputs": [],
   "source": [
    "# Definition of the maximized Hamiltonian and its derivatives\n",
    "# The second derivative d2hfun is computed by finite differences for a part\n",
    "def dhfun(t, x, dx, p, dp, e):\n",
    "    # dh = dh_x dx + dh_p dp\n",
    "    u  = ufun(p, e)\n",
    "    du = dufun(p, e)\n",
    "    hd = (u+p*du+2.0*e*u*du/(u**2-1.0))*dp - 2.0*x*dx\n",
    "    return hd\n",
    "\n",
    "def d2hfun(t, x, dx, d2x, p, dp, d2p, e):\n",
    "    # d2h = dh_xx dx d2x + dh_xp dp d2x + dh_px dx d2p + dh_pp dp d2p\n",
    "    d2h_xx = -2.0*dx*d2x # dh_xx dx d2x\n",
    "    dh_p   = lambda p: dhfun(t, x, 0.0, p, dp, e) # dh_px = 0 so we can put dx = 0\n",
    "    d2h_pp = finite_diff(dh_p, p, d2p) # dh_pp dp d2p\n",
    "    hdd    = d2h_xx + d2h_pp\n",
    "    return hdd\n",
    "\n",
    "@tools.tensorize(dhfun, d2hfun, tvars=(2, 3))\n",
    "def hfun(t, x, p, e):\n",
    "    u = ufun(p, e)\n",
    "    h = p*u - x**2 + e*(np.log(1.0-u**2))\n",
    "    return h\n",
    "\n",
    "h = ocp.Hamiltonian(hfun)   # The Hamiltonian object\n",
    "\n",
    "f = ocp.Flow(h)             # The flow associated to the Hamiltonian object is \n",
    "                            # the exponential mapping with its derivative\n",
    "                            # that can be used to define the Jacobian of the \n",
    "                            # shooting function"
   ]
  },
  {
   "cell_type": "markdown",
   "metadata": {},
   "source": [
    "### Shooting function and its derivative"
   ]
  },
  {
   "cell_type": "markdown",
   "metadata": {},
   "source": [
    "The shooting function is\n",
    "\n",
    "$$\n",
    "    S(p_0, \\varepsilon, t_f) = \\pi_x(z(t_f, 1, p_0, \\varepsilon)) - 1/2,\n",
    "$$\n",
    "\n",
    "where $z(t_f, x_0, p_0, \\varepsilon)$ is the solution of the associated Hamiltonian system \n",
    "with the initial condition $z(0) = (x_0, p_0)$. Note that the Hamiltonian system depends on $\\varepsilon$. We put $\\varepsilon$ and $t_f$ into \n",
    "the arguments of the shooting function since we will vary them.\n",
    "\n",
    "<div class=\"alert alert-warning\">\n",
    "\n",
    "**Procedure**\n",
    "\n",
    "First solve $S=0$ for $(\\varepsilon, t_f) = (1,1)$ then decrease $\\varepsilon$ to $0.01$, and finish by increasing $t_f$ to 2.\n",
    "    \n",
    "</div>"
   ]
  },
  {
   "cell_type": "markdown",
   "metadata": {},
   "source": [
    "<div class=\"alert alert-info\">\n",
    "\n",
    "**_Question 3:_**\n",
    "    \n",
    "Complete the code of the shooting function.\n",
    "    \n",
    "</div>"
   ]
  },
  {
   "cell_type": "code",
   "execution_count": 7,
   "metadata": {},
   "outputs": [],
   "source": [
    "# ----------------------------\n",
    "# Answer 3 to complete here\n",
    "# ----------------------------\n",
    "#\n",
    "# Definition of the shooting function and its partial derivative wrt. p0 against the vector dp0\n",
    "#\n",
    "def shoot(p0, e, tf):\n",
    "    xf, _ = f(t0, x0, p0, tf, e)\n",
    "    s = xf-xf_target  ### TO COMPLETE: use the flow f, the parameters t0, x0 and xf_target\n",
    "    return s"
   ]
  },
  {
   "cell_type": "code",
   "execution_count": 8,
   "metadata": {},
   "outputs": [],
   "source": [
    "def dshoot(p0, dp0, e, tf):\n",
    "    (xf, dxf), _ = f(t0, x0, (p0, dp0), tf, e)\n",
    "    ds = dxf\n",
    "    return ds\n",
    "\n",
    "shoot = nt.tools.tensorize(dshoot, tvars=(1,))(shoot)"
   ]
  },
  {
   "cell_type": "code",
   "execution_count": 9,
   "metadata": {},
   "outputs": [],
   "source": [
    "# Function to plot the solution\n",
    "def plotSolution(p0, e, tf):\n",
    "\n",
    "    N      = 200\n",
    "    tspan  = list(np.linspace(t0, tf, N+1))\n",
    "    xf, pf = f(t0, x0, p0, tspan, e)\n",
    "    u      = ufun(pf, e)\n",
    "\n",
    "    fig = plt.figure()\n",
    "    ax  = fig.add_subplot(511); ax.plot(tspan, xf); ax.set_xlabel('t'); ax.set_ylabel('$x$'); ax.axhline(0, color='k')\n",
    "    ax  = fig.add_subplot(513); ax.plot(tspan, pf); ax.set_xlabel('t'); ax.set_ylabel('$p$'); ax.axhline(0, color='k')\n",
    "    ax  = fig.add_subplot(515); ax.plot(tspan,  u); ax.set_xlabel('t'); ax.set_ylabel('$u$'); ax.axhline(0, color='k')"
   ]
  },
  {
   "cell_type": "markdown",
   "metadata": {},
   "source": [
    "### Resolution of the regularized problem"
   ]
  },
  {
   "cell_type": "code",
   "execution_count": 10,
   "metadata": {},
   "outputs": [
    {
     "name": "stdout",
     "output_type": "stream",
     "text": [
      "\n",
      "     Calls  |f(x)|                 |x|\n",
      " \n",
      "         1  9.225527956247912e-01  1.000000000000000e-01\n",
      "         2  1.328510006452917e-01  2.933843214213524e+00\n",
      "         3  7.295873431542804e-02  2.551952313087702e+00\n",
      "         4  3.048709016219264e-02  2.086745726326343e+00\n",
      "         5  4.420524567305795e-03  2.223849328393024e+00\n",
      "         6  2.283580548575470e-04  2.206487218552568e+00\n",
      "         7  1.831090251758205e-06  2.205541459928807e+00\n",
      "         8  7.509118882254029e-10  2.205548983174074e+00\n",
      "         9  2.498001805406602e-15  2.205548980090131e+00\n",
      "\n",
      " Results of the nle solver method:\n",
      "\n",
      " xsol    =  [-2.20554898]\n",
      " f(xsol) =  [-2.49800181e-15]\n",
      " nfev    =  9\n",
      " njev    =  1\n",
      " status  =  1\n",
      " success =  True \n",
      "\n",
      " Successfully completed: relative error between two consecutive iterates is at most TolX.\n",
      "\n"
     ]
    }
   ],
   "source": [
    "# Shooting for (tf, e) = (tf_init, e_init)\n",
    "p0_guess = np.array([0.1])\n",
    "nlefun   = lambda p0: shoot(p0, e_init, tf_init)\n",
    "sol_nle  = nt.nle.solve(nlefun, p0_guess, df=nlefun)"
   ]
  },
  {
   "cell_type": "code",
   "execution_count": 11,
   "metadata": {},
   "outputs": [
    {
     "data": {
      "image/png": "[encoded data removed]",
      "text/plain": [
       "<Figure size 900x600 with 3 Axes>"
      ]
     },
     "metadata": {
      "needs_background": "light"
     },
     "output_type": "display_data"
    }
   ],
   "source": [
    "# Plot solution for (tf, e) = (tf_init, e_init)\n",
    "plotSolution(sol_nle.x, e_init, tf_init)"
   ]
  },
  {
   "cell_type": "code",
   "execution_count": 12,
   "metadata": {},
   "outputs": [],
   "source": [
    "# Definition of the homotopic function and its first order derivative\n",
    "# This function is used to solve S=0 for different values of e=epsilon and tf.\n",
    "def dhomfun(p0, dp0, e, de, tf, dtf):\n",
    "    #\n",
    "    (xf, dxf), (pf, dpf) = f(t0, x0, (p0, dp0), tf, e)    \n",
    "    #\n",
    "    s     = xf - xf_target\n",
    "    #\n",
    "    ds_p0 = dxf\n",
    "    ds_tf = ufun(pf, e) * dtf # dS_tf dtf = u dtf\n",
    "    #\n",
    "    fun = lambda e: float(f(t0, x0, p0, tf, e)[0])\n",
    "    ds_e = finite_diff(fun, e, de) # dS_e de\n",
    "    #\n",
    "    ds    = ds_p0 + ds_e + ds_tf\n",
    "    return s, ds\n",
    "\n",
    "@tools.tensorize(dhomfun, tvars=(1, 2, 3), full=True)\n",
    "def homfun(p0, e, tf):\n",
    "    xf, pf = f(t0, x0, p0, tf, e)  # We use the flow to get z(tf, x0, p0, e)\n",
    "    s = xf - xf_target             # x(tf, x0, p0) - xf_target\n",
    "    return s"
   ]
  },
  {
   "cell_type": "code",
   "execution_count": 13,
   "metadata": {},
   "outputs": [
    {
     "name": "stdout",
     "output_type": "stream",
     "text": [
      "\n",
      "     Calls  |f(x,pars)|     |x|                Homotopic param    Arclength s     det A(s)        Dot product                \n",
      " \n",
      "         1  3.33066907e-16  2.20554898009e+00  1.00000000000e+00  0.00000000e+00 -3.99453546e-01  0.00000000e+00\n",
      "         2  3.88578059e-16  2.19703976140e+00  9.93456169323e-01  1.07344549e-02 -4.02221680e-01  9.99999991e-01\n",
      "         3  0.00000000e+00  2.18057115589e+00  9.80786200656e-01  3.15128831e-02 -4.07690443e-01  9.99999966e-01\n",
      "         4  2.22044605e-16  2.14520364414e+00  9.53552687577e-01  7.61505934e-02 -4.19957098e-01  9.99999826e-01\n",
      "         5  0.00000000e+00  2.07505074758e+00  8.99429419019e-01  1.64755098e-01 -4.46631837e-01  9.99999153e-01\n",
      "         6  2.77555756e-16  1.90499146726e+00  7.67526096279e-01  3.79972916e-01 -5.28087484e-01  9.99991678e-01\n",
      "         7  0.00000000e+00  1.78495606677e+00  6.73639097155e-01  5.32364834e-01 -6.06302349e-01  9.99992055e-01\n",
      "         8  3.88578059e-16  1.65399080310e+00  5.70168440155e-01  6.99272468e-01 -7.23321538e-01  9.99982519e-01\n",
      "         9  5.55111512e-17  1.54187220679e+00  4.80417116324e-01  8.42889880e-01 -8.66276323e-01  9.99976335e-01\n",
      "        10  1.11022302e-16  1.45192230845e+00  4.07372192153e-01  9.58763089e-01 -1.02832763e+00  9.99975213e-01\n",
      "        11  1.11022302e-16  1.36343892506e+00  3.34390938892e-01  1.07346115e+00 -1.25591967e+00  9.99967052e-01\n",
      "        12  3.33066907e-16  1.29129939678e+00  2.73978516340e-01  1.16755581e+00 -1.52238438e+00  9.99978747e-01\n",
      "        13  1.11022302e-16  1.23859786608e+00  2.29396800044e-01  1.23658468e+00 -1.78774985e+00  9.99994854e-01\n",
      "        14  3.33066907e-16  1.19556349065e+00  1.92867703058e-01  1.29303228e+00 -2.06763754e+00  1.00000000e+00\n",
      "        15  1.33226763e-15  1.15883501980e+00  1.61793146526e-01  1.34114269e+00 -2.36718838e+00  9.99994343e-01\n",
      "        16  9.99200722e-16  1.12724285107e+00  1.35334997457e-01  1.38235076e+00 -2.68394053e+00  9.99977422e-01\n",
      "        17  1.11022302e-16  1.09974945683e+00  1.12693563283e-01  1.41796721e+00 -3.01813397e+00  9.99951751e-01\n",
      "        18  2.77555756e-16  1.07572540179e+00  9.33552997390e-02  1.44880770e+00 -3.36900646e+00  9.99922032e-01\n",
      "        19  1.38777878e-15  1.05458036918e+00  7.68038564922e-02  1.47566055e+00 -3.73805571e+00  9.99891775e-01\n",
      "        20  1.11022302e-15  1.03407253999e+00  6.12886602268e-02  1.50137652e+00 -4.16848761e+00  9.99832443e-01\n",
      "        21  1.11022302e-16  1.01792154070e+00  4.95239808394e-02  1.52135833e+00 -4.57542151e+00  9.99842046e-01\n",
      "        22  5.38458167e-15  1.00380693267e+00  3.96292151504e-02  1.53859599e+00 -4.99754498e+00  9.99830083e-01\n",
      "        23  1.11022302e-15  9.91461532991e-01  3.13133213847e-02  1.55348120e+00 -5.43516978e+00  9.99823628e-01\n",
      "        24  1.11022302e-16  9.80574281055e-01  2.42755426935e-02  1.56644530e+00 -5.89269366e+00  9.99818367e-01\n",
      "        25  4.44089210e-16  9.71093789357e-01  1.83997125260e-02  1.57759917e+00 -6.36547907e+00  9.99820354e-01\n",
      "        26  1.44328993e-15  9.63015550421e-01  1.35993390518e-02  1.58699619e+00 -6.84333720e+00  9.99831648e-01\n",
      "        27  8.99280650e-15  9.56089215617e-01  9.65133260542e-03  1.59496880e+00 -7.32937138e+00  9.99840813e-01\n",
      "        28  1.09912079e-14  9.50300711347e-01  6.48406023779e-03  1.60156724e+00 -7.81182997e+00  9.99856343e-01\n",
      "        29  1.66533454e-15  9.45789734881e-01  4.10892135873e-03  1.60666535e+00 -8.25707685e+00  9.99886726e-01\n",
      "        30  2.55351296e-15  9.42200031171e-01  2.28437481373e-03  1.61069216e+00 -8.67581437e+00  9.99905566e-01\n",
      "        31  6.66133815e-16  9.41628939496e-01  2.00000000000e-03  1.61133013e+00 -8.74973417e+00  9.99997130e-01\n",
      "\n",
      " Results of the path solver method:\n",
      "\n",
      " xf            =  [-0.94162894]\n",
      " parsf         =  0.002\n",
      " |f(xf,parsf)| =  6.661338147750939e-16\n",
      " steps         =  31\n",
      " status        =  1\n",
      " success       =  True \n",
      "\n",
      " Homotopy successfully completed.\n",
      "\n"
     ]
    }
   ],
   "source": [
    "# Making the penalization smaller: homotopy on e\n",
    "p0         = sol_nle.x\n",
    "sol_path_e = nt.path.solve(homfun, p0, e_init, e_final, args=tf_init, df=homfun)"
   ]
  },
  {
   "cell_type": "code",
   "execution_count": 14,
   "metadata": {},
   "outputs": [
    {
     "data": {
      "image/png": "[encoded data removed]",
      "text/plain": [
       "<Figure size 900x600 with 3 Axes>"
      ]
     },
     "metadata": {
      "needs_background": "light"
     },
     "output_type": "display_data"
    }
   ],
   "source": [
    "# Plot solution for (tf, e) = (tf_init, e_final)\n",
    "plotSolution(sol_path_e.xf, e_final, tf_init)"
   ]
  },
  {
   "cell_type": "code",
   "execution_count": 15,
   "metadata": {},
   "outputs": [
    {
     "name": "stdout",
     "output_type": "stream",
     "text": [
      "\n",
      "     Calls  |f(x,pars)|     |x|                Homotopic param    Arclength s     det A(s)        Dot product                \n",
      " \n",
      "         1  6.66133815e-16  9.41628939496e-01  1.00000000000e+00  0.00000000e+00  4.01455484e+00  0.00000000e+00\n",
      "         2  7.77156117e-16  9.44075168781e-01  1.00970881514e+00  1.00122571e-02  4.08611420e+00  9.99990245e-01\n",
      "         3  1.11022302e-15  9.52102848320e-01  1.04293851665e+00  4.41982061e-02  4.35283772e+00  9.99884981e-01\n",
      "         4  5.55111512e-17  9.61551785362e-01  1.08524044452e+00  8.75432682e-02  4.75018004e+00  9.99811909e-01\n",
      "         5  4.44089210e-16  9.71889522018e-01  1.13670642075e+00  1.40038451e-01  5.34750049e+00  9.99719877e-01\n",
      "         6  8.88178420e-16  9.81239361261e-01  1.18984484600e+00  1.93994512e-01  6.14755121e+00  9.99701726e-01\n",
      "         7  9.99200722e-16  9.89203765556e-01  1.24257787672e+00  2.47326883e-01  7.21495991e+00  9.99709958e-01\n",
      "         8  1.99840144e-15  9.95580385429e-01  1.29269527427e+00  2.97849385e-01  8.62119372e+00  9.99745251e-01\n",
      "         9  2.99760217e-15  1.00051438671e+00  1.33953558933e+00  3.44949682e-01  1.04908125e+01  9.99787821e-01\n",
      "        10  2.22044605e-16  1.00421948463e+00  1.38278416798e+00  3.88357287e-01  1.30056663e+01  9.99831792e-01\n",
      "        11  2.88657986e-15  1.00693708445e+00  1.42252518761e+00  4.28191541e-01  1.64473939e+01  9.99872090e-01\n",
      "        12  3.99680289e-15  1.00888790094e+00  1.45899493731e+00  4.64713713e-01  2.12492328e+01  9.99906860e-01\n",
      "        13  9.76996262e-15  1.01026121759e+00  1.49254189114e+00  4.98288946e-01  2.80915273e+01  9.99935230e-01\n",
      "        14  2.52020627e-14  1.01121067549e+00  1.52357004662e+00  5.29331736e-01  3.80585832e+01  9.99957180e-01\n",
      "        15  3.64153152e-14  1.01185641540e+00  1.55251896674e+00  5.58287922e-01  5.29141917e+01  9.99973199e-01\n",
      "        16  8.53761506e-14  1.01228914977e+00  1.57984543104e+00  5.85617848e-01  7.55932846e+01  9.99984170e-01\n",
      "        17  1.61870517e-13  1.01257527490e+00  1.60601338859e+00  6.11787389e-01  1.11113658e+02  9.99991194e-01\n",
      "        18  2.57127653e-13  1.01276205063e+00  1.63148725123e+00  6.37261946e-01  1.68326045e+02  9.99995393e-01\n",
      "        19  4.04121181e-13  1.01288235105e+00  1.65673085056e+00  6.62505837e-01  2.63412415e+02  9.99997736e-01\n",
      "        20  5.00377517e-13  1.01295864700e+00  1.68221166429e+00  6.87986767e-01  4.27196063e+02  9.99998957e-01\n",
      "        21  1.85296223e-13  1.01300611552e+00  1.70841103571e+00  7.14186183e-01  7.21216245e+02  9.99999552e-01\n",
      "        22  5.15265608e-12  1.01303492840e+00  1.73584045742e+00  7.41615620e-01  1.27520586e+03  9.99999821e-01\n",
      "        23  2.46878074e-11  1.01305186420e+00  1.76506478799e+00  7.70839956e-01  2.38060287e+03  9.99999935e-01\n",
      "        24  1.23218657e-10  1.01306141087e+00  1.79673481353e+00  8.02509983e-01  4.74316197e+03  9.99999978e-01\n",
      "        25  6.21493634e-10  1.01306650773e+00  1.83163376749e+00  8.37408937e-01  1.02326455e+04  9.99999994e-01\n",
      "        26  3.65446579e-09  1.01306904360e+00  1.87074666425e+00  8.76521834e-01  2.43737040e+04  9.99999998e-01\n",
      "        27  2.68317627e-08  1.01307019445e+00  1.91536772178e+00  9.21142891e-01  6.58420950e+04  1.00000000e+00\n",
      "        28  2.69154919e-07  1.01307065714e+00  1.96727288705e+00  9.73048057e-01  2.09349102e+05  1.00000000e+00\n",
      "        29  2.14453923e-06  1.01307076680e+00  2.00000000000e+00  1.00577517e+00  4.36712934e+05  1.00000000e+00\n",
      "\n",
      " Results of the path solver method:\n",
      "\n",
      " xf            =  [-1.01307077]\n",
      " parsf         =  2.0\n",
      " |f(xf,parsf)| =  2.1445392286989495e-06\n",
      " steps         =  29\n",
      " status        =  1\n",
      " success       =  True \n",
      "\n",
      " Homotopy successfully completed.\n",
      "\n"
     ]
    }
   ],
   "source": [
    "# Making the time bigger: homotopy on tf\n",
    "p0          = sol_path_e.xf                       # sol is coming from last homotopy\n",
    "pathfun     = lambda p0, tf, e: homfun(p0, e, tf) # invert order of arguments\n",
    "sol_path_tf = nt.path.solve(pathfun, p0, tf_init, tf_final, args=e_final, df=pathfun)"
   ]
  },
  {
   "cell_type": "code",
   "execution_count": 16,
   "metadata": {},
   "outputs": [
    {
     "data": {
      "image/png": "[encoded data removed]",
      "text/plain": [
       "<Figure size 900x600 with 3 Axes>"
      ]
     },
     "metadata": {
      "needs_background": "light"
     },
     "output_type": "display_data"
    }
   ],
   "source": [
    "# Plot solution for (tf, e) = (tf_final, e_final)\n",
    "plotSolution(sol_path_tf.xf, e_final, tf_final)"
   ]
  },
  {
   "cell_type": "markdown",
   "metadata": {},
   "source": [
    "## III) Resolution of the optimal control problem by multiple shooting"
   ]
  },
  {
   "cell_type": "markdown",
   "metadata": {},
   "source": [
    "We come back to the original optimal control problem:\n",
    "\n",
    "$$ \n",
    "    \\left\\{ \n",
    "    \\begin{array}{l}\n",
    "        \\displaystyle J(u)  := \\displaystyle \\int_0^{t_f} x^2(t) \\, \\mathrm{d}t \\longrightarrow \\min \\\\[1.0em]\n",
    "        \\dot{x}(t) = f(x(t), u(t)) := \\displaystyle u(t), \\quad  |u(t)| \\le 1, \\quad t \\in [0, t_f] \\text{ a.e.},    \\\\[1.0em]\n",
    "        x(0) = 1, \\quad x(t_f) = 1/2.\n",
    "    \\end{array}\n",
    "    \\right. \n",
    "$$\n",
    "\n",
    "We have determined that the optimal control follows the strategy:\n",
    "\n",
    "$$\n",
    "    u(t) = \\left\\{ \n",
    "    \\begin{array}{lll}\n",
    "        -1            & \\text{if} & t \\in [0, t_1],     \\\\[0.5em]\n",
    "        \\phantom{-}0  & \\text{if} & t \\in (t_1, t_2],   \\\\[0.5em]\n",
    "        +1            & \\text{if} & t \\in (t_2, t_f],\n",
    "    \\end{array}\n",
    "    \\right. \n",
    "$$\n",
    "\n",
    "with $0 < t_1 < t_2 < t_f=2$. \n",
    "\n",
    "\n",
    "<div class=\"alert alert-warning\">\n",
    "\n",
    "**Goal**\n",
    "\n",
    "The goal is to find the values of the switching times $t_1$ and $t_2$ together with the initial covector $p_0$ (see Remark 2).\n",
    "    \n",
    "</div>"
   ]
  },
  {
   "cell_type": "markdown",
   "metadata": {},
   "source": [
    "### Maximized Hamiltonian and its derivatives"
   ]
  },
  {
   "cell_type": "markdown",
   "metadata": {},
   "source": [
    "We define first the three control laws $u \\equiv \\{-1, 0, 1\\}$."
   ]
  },
  {
   "cell_type": "code",
   "execution_count": 17,
   "metadata": {},
   "outputs": [],
   "source": [
    "# Controls in feedback form\n",
    "@tools.vectorize(vvars=(1, 2, 3))\n",
    "def uplus(t, x, p):\n",
    "    u = +1.0\n",
    "    return u\n",
    "\n",
    "@tools.vectorize(vvars=(1, 2, 3))\n",
    "def uminus(t, x, p):\n",
    "    u = -1.0\n",
    "    return u\n",
    "\n",
    "@tools.vectorize(vvars=(1, 2, 3))\n",
    "def using(t, x, p):\n",
    "    u = 0.0\n",
    "    return u"
   ]
  },
  {
   "cell_type": "markdown",
   "metadata": {},
   "source": [
    "The pseudo-Hamiltonian is\n",
    "\n",
    "$$\n",
    "    H(x,p,u) = pu - x^2.\n",
    "$$"
   ]
  },
  {
   "cell_type": "markdown",
   "metadata": {},
   "source": [
    "<div class=\"alert alert-info\">\n",
    "\n",
    "**_Question 4:_**\n",
    "    \n",
    "Complete the code of the Hamiltonian for $u \\equiv +1$, with its derivatives.\n",
    "    \n",
    "</div>"
   ]
  },
  {
   "cell_type": "code",
   "execution_count": 18,
   "metadata": {},
   "outputs": [],
   "source": [
    "# ----------------------------\n",
    "# Answer 4 to complete here\n",
    "# ----------------------------\n",
    "#\n",
    "# Definition of the Hamiltonian and its derivatives for u = 1\n",
    "#\n",
    "def dhfunplus(t, x, dx, p, dp):\n",
    "    # dh = dh_x dx + dh_p dp\n",
    "    u  = uplus(t, x, p)\n",
    "    hd = u*dp - 2.0*x*dx ### TO COMPLETE: use uplus\n",
    "    return hd\n",
    "    \n",
    "def d2hfunplus(t, x, dx, d2x, p, dp, d2p):\n",
    "    # d2h = dh_xx dx d2x + dh_xp dp d2x + dh_px dx d2p + dh_pp dp d2p\n",
    "    hdd = -2.0 * d2x * dx ### TO COMPLETE\n",
    "    return hdd\n",
    "\n",
    "@tools.tensorize(dhfunplus, d2hfunplus, tvars=(2, 3))\n",
    "def hfunplus(t, x, p):\n",
    "    u = uplus(t, x, p)\n",
    "    h = p*u - x**2 ### TO COMPLETE: use uplus\n",
    "    return h\n",
    "\n",
    "hplus = ocp.Hamiltonian(hfunplus)\n",
    "fplus = ocp.Flow(hplus)"
   ]
  },
  {
   "cell_type": "markdown",
   "metadata": {},
   "source": [
    "We give the Hamiltonians for $u=-1$ and $u=0$ with their derivatives."
   ]
  },
  {
   "cell_type": "code",
   "execution_count": 19,
   "metadata": {},
   "outputs": [],
   "source": [
    "# Definition of the Hamiltonian and its derivatives for u = -1\n",
    "def dhfunminus(t, x, dx, p, dp):\n",
    "    # dh = dh_x dx + dh_p dp\n",
    "    u  = uminus(t, x, p)\n",
    "    hd = u*dp - 2.0*x*dx\n",
    "    return hd\n",
    "    \n",
    "def d2hfunminus(t, x, dx, d2x, p, dp, d2p):\n",
    "    # d2h = dh_xx dx d2x + dh_xp dp d2x + dh_px dx d2p + dh_pp dp d2p\n",
    "    hdd    = -2.0 * d2x * dx\n",
    "    return hdd\n",
    "\n",
    "@tools.tensorize(dhfunminus, d2hfunminus, tvars=(2, 3))\n",
    "def hfunminus(t, x, p):\n",
    "    u = uminus(t, x, p)\n",
    "    h = p*u - x**2\n",
    "    return h\n",
    "\n",
    "hminus = ocp.Hamiltonian(hfunminus)\n",
    "fminus = ocp.Flow(hminus)"
   ]
  },
  {
   "cell_type": "code",
   "execution_count": 20,
   "metadata": {},
   "outputs": [],
   "source": [
    "# Definition of the Hamiltonian and its derivatives for u = 0\n",
    "def dhfunsing(t, x, dx, p, dp):\n",
    "    # dh = dh_x dx + dh_p dp\n",
    "    u  = using(t, x, p)\n",
    "    hd = u*dp - 2.0*x*dx\n",
    "    return hd\n",
    "    \n",
    "def d2hfunsing(t, x, dx, d2x, p, dp, d2p):\n",
    "    # d2h = dh_xx dx d2x + dh_xp dp d2x + dh_px dx d2p + dh_pp dp d2p\n",
    "    hdd    = -2.0 * d2x * dx\n",
    "    return hdd\n",
    "\n",
    "@tools.tensorize(dhfunsing, d2hfunsing, tvars=(2, 3))\n",
    "def hfunsing(t, x, p):\n",
    "    u = using(t, x, p)\n",
    "    h = p*u - x**2\n",
    "    return h\n",
    "\n",
    "hsing = ocp.Hamiltonian(hfunsing)\n",
    "fsing = ocp.Flow(hsing)"
   ]
  },
  {
   "cell_type": "markdown",
   "metadata": {},
   "source": [
    "### Shooting function"
   ]
  },
  {
   "cell_type": "markdown",
   "metadata": {},
   "source": [
    "The multiple shooting function is given by\n",
    "\n",
    "$$\n",
    " S(p_0, t_1, t_2) := \n",
    " \\begin{pmatrix}\n",
    "     x(t_1, t_0, x_0, p_0, u_-) \\\\\n",
    "     p(t_1, t_0, x_0, p_0, u_-) \\\\\n",
    "     x(t_f, t_2, x_2, p_2, u_+) -1/2\n",
    " \\end{pmatrix},\n",
    "$$\n",
    "\n",
    "where $z_2 := (x_2, p_2) = z(t_2, t_1, x_1, p_1, u_0)$, $z_1 := (x_1, p_1) = z(t_1, t_0, x_0, p_0, u_-)$ and where z(t, s, a, b, u) is the solution at time $t$ of the Hamiltonian system associated to the control u starting at time $s$ at the initial condition $z(s) = (a,b)$.\n",
    "\n",
    "We have introduced the notation $u_-$ for $u\\equiv -1$, $u_0$ for $u\\equiv 0$ and $u_+$ for $u\\equiv +1$.\n",
    "\n",
    "**_Remark:_** We know that $(x_2, p_2)=(0,0)$."
   ]
  },
  {
   "cell_type": "markdown",
   "metadata": {},
   "source": [
    "<div class=\"alert alert-info\">\n",
    "\n",
    "**_Question 5:_**\n",
    "    \n",
    "Complete the code of the multiple shooting function.\n",
    "    \n",
    "</div>"
   ]
  },
  {
   "cell_type": "code",
   "execution_count": 21,
   "metadata": {},
   "outputs": [],
   "source": [
    "# ----------------------------\n",
    "# Answer 5 to complete here\n",
    "# ----------------------------\n",
    "#\n",
    "# Multiple shooting function\n",
    "#\n",
    "\n",
    "tf = tf_final # we set the final time to the value tf_final\n",
    "\n",
    "def shoot_multiple(y):\n",
    "    p0 = y[0]\n",
    "    t1 = y[1]\n",
    "    t2 = y[2]\n",
    "    \n",
    "    x1,p1 = fminus(t0, x0, p0, t1)\n",
    "    x2,p2 = fsing(t0, x1, p1, t1)\n",
    "    x,p = fplus(t2, x2, p2, tf)\n",
    "    \n",
    "    s = np.array([x1[0], p[0], (x-xf_target)[0]]) ### TO COMPLETE: use fminus, fsing, fplus, t0, t1, t2, tf, x0, xf_target\n",
    "    #xf1, pf1 = fminus(t1,t0,x0,p0,uminus)\n",
    "    #(t0, x0, p0, tf, e)\n",
    "    #xf2, pf2 = fplus(t0, x0, p0, tf, e)\n",
    "    #xf3, pf3 = fsing(t0, x0, p0, tf, e)\n",
    "    \n",
    "    return s"
   ]
  },
  {
   "cell_type": "markdown",
   "metadata": {},
   "source": [
    "### Resolution of the shooting function"
   ]
  },
  {
   "cell_type": "markdown",
   "metadata": {},
   "source": [
    "<div class=\"alert alert-info\">\n",
    "\n",
    "**_Question 6:_**\n",
    "    \n",
    "Give initial guesses for the times $t_1$ and $t_2$ according to the solution of the regularized problem.\n",
    "    \n",
    "</div>"
   ]
  },
  {
   "cell_type": "code",
   "execution_count": 22,
   "metadata": {},
   "outputs": [],
   "source": [
    "# ----------------------------\n",
    "# Answer 6 to complete here\n",
    "# ----------------------------\n",
    "#\n",
    "# Initial guess for the Newton solver\n",
    "\n",
    "t1_guess = 1 # to update\n",
    "t2_guess = 1.5 # to update\n",
    "\n",
    "p0_guess = sol_path_tf.xf # from previous homotopy"
   ]
  },
  {
   "cell_type": "code",
   "execution_count": 23,
   "metadata": {},
   "outputs": [
    {
     "name": "stdout",
     "output_type": "stream",
     "text": [
      "\n",
      "     Calls  |f(x)|                 |x|\n",
      " \n",
      "         1  2.369292332005575e-01  2.067924654948437e+00\n",
      "         2  1.034277295752797e-09  2.193741097437365e+00\n",
      "         3  7.038190241521960e-16  2.193741096848031e+00\n",
      "\n",
      " Results of the nle solver method:\n",
      "\n",
      " xsol    =  [-1.25  1.    1.5 ]\n",
      " f(xsol) =  [-1.07552856e-16 -6.10622664e-16 -3.33066907e-16]\n",
      " nfev    =  3\n",
      " njev    =  1\n",
      " status  =  1\n",
      " success =  True \n",
      "\n",
      " Successfully completed: relative error between two consecutive iterates is at most TolX.\n",
      "\n"
     ]
    }
   ],
   "source": [
    "# Resolution of the shooting function\n",
    "y_guess  = np.array([float(p0_guess), t1_guess, t2_guess])\n",
    "sol_nle_mul  = nt.nle.solve(shoot_multiple, y_guess)"
   ]
  },
  {
   "cell_type": "code",
   "execution_count": 24,
   "metadata": {},
   "outputs": [],
   "source": [
    "# function to plot solution\n",
    "\n",
    "def plotSolutionBSB(p0, t1, t2, tf):\n",
    "\n",
    "    N      = 20\n",
    "    \n",
    "    tspan1  = list(np.linspace(t0, t1, N+1))\n",
    "    tspan2  = list(np.linspace(t1, t2, N+1))\n",
    "    tspanf  = list(np.linspace(t2, tf, N+1))\n",
    "        \n",
    "    x1, p1 = fminus(t0, x0, p0, tspan1)  # on [ 0, t1]\n",
    "    x2, p2 =  fsing(t1, x1[-1], p1[-1], tspan2)  # on [t1, t2]\n",
    "    xf, pf =  fplus(t2, x2[-1], p2[-1], tspanf)  # on [t2, tf]\n",
    "    \n",
    "    u1     = uminus(tspan1, x1, p1)\n",
    "    u2     =  using(tspan2, x2, p2)\n",
    "    uf     =  uplus(tspanf, xf, pf)\n",
    "\n",
    "    fig = plt.figure()\n",
    "    ax  = fig.add_subplot(511); ax.plot(tspan1, x1); ax.plot(tspan2, x2); ax.plot(tspanf, xf); \n",
    "    ax.set_xlabel('t'); ax.set_ylabel('$x$'); ax.axhline(0, color='k')\n",
    "    ax  = fig.add_subplot(513);  ax.plot(tspan1, p1); ax.plot(tspan2, p2); ax.plot(tspanf, pf);\n",
    "    ax.set_xlabel('t'); ax.set_ylabel('$p$'); ax.axhline(0, color='k')\n",
    "    ax  = fig.add_subplot(515);  ax.plot(tspan1, u1); ax.plot(tspan2, u2); ax.plot(tspanf, uf);\n",
    "    ax.set_xlabel('t'); ax.set_ylabel('$u$'); ax.axhline(0, color='k')"
   ]
  },
  {
   "cell_type": "code",
   "execution_count": 25,
   "metadata": {},
   "outputs": [
    {
     "data": {
      "image/png": "[encoded data removed]",
      "text/plain": [
       "<Figure size 900x600 with 3 Axes>"
      ]
     },
     "metadata": {
      "needs_background": "light"
     },
     "output_type": "display_data"
    }
   ],
   "source": [
    "# plot solution\n",
    "p0 = sol_nle_mul.x[0]\n",
    "t1 = sol_nle_mul.x[1]\n",
    "t2 = sol_nle_mul.x[2]\n",
    "plotSolutionBSB(p0, t1, t2, tf)"
   ]
  },
  {
   "cell_type": "code",
   "execution_count": null,
   "metadata": {},
   "outputs": [],
   "source": []
  }
 ],
 "metadata": {
  "kernelspec": {
   "display_name": "Python 3",
   "language": "python",
   "name": "python3"
  },
  "language_info": {
   "codemirror_mode": {
    "name": "ipython",
    "version": 3
   },
   "file_extension": ".py",
   "mimetype": "text/x-python",
   "name": "python",
   "nbconvert_exporter": "python",
   "pygments_lexer": "ipython3",
   "version": "3.7.10"
  }
 },
 "nbformat": 4,
 "nbformat_minor": 4
}
