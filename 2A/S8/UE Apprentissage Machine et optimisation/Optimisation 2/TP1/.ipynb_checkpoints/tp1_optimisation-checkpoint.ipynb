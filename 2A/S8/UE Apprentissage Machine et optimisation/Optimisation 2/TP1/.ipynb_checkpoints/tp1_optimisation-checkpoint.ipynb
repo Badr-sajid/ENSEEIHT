{
 "cells": [
  {
   "cell_type": "markdown",
   "metadata": {
    "slideshow": {
     "slide_type": "slide"
    }
   },
   "source": [
    "# Reconstruction parcimonieuse ou compressive sensing"
   ]
  },
  {
   "cell_type": "markdown",
   "metadata": {
    "slideshow": {
     "slide_type": "slide"
    }
   },
   "source": [
    "## I. Cadre général et première tentative."
   ]
  },
  {
   "cell_type": "markdown",
   "metadata": {
    "slideshow": {
     "slide_type": "subslide"
    }
   },
   "source": [
    "Le but du TP est de montrer que des techniques d'optimisation pour le Machine Learning permettent de récupérer des signaux qui admettent dans une certaine base une représentation parcimonieuse, c'est à dire mettant en jeu un faible nombre de coefficients. \n",
    "\n",
    "On s'intéresse donc à la reconstruction d'un vecteur $x$ (ici une image codées en niveaux de gris) en utilisant les valeurs de combinaisons aléatoire de certains pixels. Les combinaisons sont représentées par une matrice $\\Phi$. \n",
    "\n",
    "Une première approche consiste à résoudre le problème $$ \\min_x \\frac{1}{2} ||\\Phi x-y||_2^2$$ pour retrouver l'image.\n",
    "\n",
    "**Question 1 :** Commenter et compléter le code constituant le reste de la section I.\n"
   ]
  },
  {
   "cell_type": "code",
   "execution_count": null,
   "metadata": {
    "slideshow": {
     "slide_type": "slide"
    }
   },
   "outputs": [],
   "source": [
    "#\n",
    "# Installation des librairies\n",
    "#\n",
    "using Pkg\n",
    "Pkg.add(\"ImageMagick\")\n",
    "#\n",
    "#\n",
    "\n",
    "#\n",
    "# Repertoire ou se trouve le fichier cameraman.tif\n",
    "#\n",
    "#cd(\"$(homedir())/\") \n",
    "\n",
    "#\n",
    "# Chargement des librairies de traitement d'image\n",
    "#\n",
    "using Images, Colors, LinearAlgebra, FFTW\n",
    "\n",
    "\n",
    "img1 = load(\"cameraman.tif\");    # \n",
    "img=convert(Array{Gray},img1);   # \n",
    "A = float(convert(Array,img));  # \n",
    "\n",
    "tmp=@view img1[:,:]"
   ]
  },
  {
   "cell_type": "code",
   "execution_count": null,
   "metadata": {
    "slideshow": {
     "slide_type": "subslide"
    }
   },
   "outputs": [],
   "source": [
    "# Extraction d'une sous-image contrastée\n",
    "k    = 30;\n",
    "orig = 60;\n",
    "Aloc   = A[orig:orig+k-1,orig:orig+k-1];\n",
    "x   = (Aloc[:]);\n",
    "n   = length(x);\n",
    "m   = 500; \n",
    "Phi = randn(m,n);\n",
    "\n",
    "imhsv=colorview(Gray,float(Aloc));\n",
    "tmp=@view imhsv[:,:]\n",
    "\n",
    "#\n",
    "# Fin Extraction\n",
    "#\n"
   ]
  },
  {
   "cell_type": "markdown",
   "metadata": {},
   "source": [
    "**Question 2 :** Résoudre le problème de moindres carrés $$\\min_x || \\Phi x -y ||_2,$$ et afficher le résultat (attention, l'image doit être en niveaux de gris). Que constate-t-on?"
   ]
  },
  {
   "cell_type": "code",
   "execution_count": null,
   "metadata": {},
   "outputs": [],
   "source": [
    "y     = Phi*x ; # Vecteur des \"observations\" de l'image\n",
    "## A compléter\n",
    "\n",
    "## Fin à compléter"
   ]
  },
  {
   "cell_type": "markdown",
   "metadata": {
    "slideshow": {
     "slide_type": "slide"
    }
   },
   "source": [
    "#### II. Compressive sensing"
   ]
  },
  {
   "cell_type": "markdown",
   "metadata": {
    "slideshow": {
     "slide_type": "fragment"
    }
   },
   "source": [
    "\n",
    "On désire utiliser à présent la transformation discrète en cosinus pour obtenir une représentaiton parcimonieuse d'une image. Cette transfomation bijective est obtenue avec la fonction `dct`, son inverse s'appelant `idct`.\n",
    "\n",
    "A partir de la fonction IDCT de Julia, on calcule la matrice  $\\Theta = \\Phi*\\Psi$, avec $\\Psi$ la matrice représentative de IDCT dans la base canonique.\n"
   ]
  },
  {
   "cell_type": "code",
   "execution_count": null,
   "metadata": {
    "slideshow": {
     "slide_type": "slide"
    }
   },
   "outputs": [],
   "source": [
    "Theta = zeros(m,n);\n",
    "for ii = 1:n\n",
    "    ii\n",
    "    ek = zeros(1,n);\n",
    "    ek[ii] = 1;\n",
    "    psi = idct(ek)';\n",
    "    Theta[:,ii] = Phi*psi;\n",
    "end"
   ]
  },
  {
   "cell_type": "markdown",
   "metadata": {
    "slideshow": {
     "slide_type": "slide"
    }
   },
   "source": [
    "### II.1. Utilisation d'un algorithme de sous-gradient"
   ]
  },
  {
   "cell_type": "markdown",
   "metadata": {
    "slideshow": {
     "slide_type": "slide"
    }
   },
   "source": [
    "**Qestion 3 :** Soit $\\lambda > 0$ (ici $\\lambda=100$). Expliquer l'intérêt de \n",
    " calculer $x_{sg}= \\Psi z$ où $z$ résout $$\\min_z \\frac{1}{2} ||\\Phi  \\cdot \\Psi  \\cdot z -y||_2^2+ \\lambda ||z||_1.$$ \n",
    " \n",
    "**Qestion 4 :** Justifier la convexité de la fonctionnelle et donner son sous-différentiel.\n",
    "\n",
    "**Qestion 5 :** Compléter ci-dessous le code de sous-gradient projeté. Vous considèrerez les différents choix de pas $\\alpha_i$ vus en cours, et trouverez des réglages permettant d'obtenir un bon rendu visuel. On pourra se rappeler du fait que la solution de norme minimale a une norme inférieure à dix.\n"
   ]
  },
  {
   "cell_type": "code",
   "execution_count": null,
   "metadata": {
    "slideshow": {
     "slide_type": "slide"
    }
   },
   "outputs": [],
   "source": [
    "z = zeros(k^2,1); i=0; lambda=1e-2;\n",
    "choix_pas = 1; # 1 cas a, 2 cas b, 3 cas c\n",
    "while i <= 1000\n",
    "    i = i + 1; \n",
    "    ## A compléter\n",
    "    \n",
    "    ## fin à compléter\n",
    "end"
   ]
  },
  {
   "cell_type": "markdown",
   "metadata": {
    "slideshow": {
     "slide_type": "slide"
    }
   },
   "source": [
    "**Question 6 :** Expliquer le code suivant et conclure sur l'utilisation du sous-gradient"
   ]
  },
  {
   "cell_type": "code",
   "execution_count": null,
   "metadata": {
    "slideshow": {
     "slide_type": "slide"
    }
   },
   "outputs": [],
   "source": [
    "function my_function(n,k,z)\n",
    "    x2 = zeros(n,1);\n",
    "    for ii = 1:n\n",
    "        ii\n",
    "        ek = zeros(1,n);\n",
    "        ek[ii] = 1;\n",
    "        psi = idct(ek)';\n",
    "        x2 = x2+psi*z[ii];\n",
    "    end\n",
    "    x2 = reshape(x2,k,k);\n",
    "    x2 = 1/(maximum(x2).-minimum(x2))*(x2.-minimum(x2));\n",
    "    return x2\n",
    "end\n",
    "#\n",
    "x2 = my_function(n,k,z);\n",
    "imhsv = colorview(Gray, float(x2));\n",
    "tmp=@view imhsv[:,:]"
   ]
  },
  {
   "cell_type": "markdown",
   "metadata": {
    "slideshow": {
     "slide_type": "slide"
    }
   },
   "source": [
    "# II.2. Utilisation d'un algorithme de sous-gradient projeté\n"
   ]
  },
  {
   "cell_type": "markdown",
   "metadata": {
    "slideshow": {
     "slide_type": "fragment"
    }
   },
   "source": [
    "**Question 7 :**  Expliquer l'intérêt de \n",
    " calculer $x_{sgp}= \\Psi z$ où $z$ résout $$\\min_{\\Phi  \\cdot \\Psi  \\cdot z =y}  ||z||_1.$$"
   ]
  },
  {
   "cell_type": "markdown",
   "metadata": {
    "slideshow": {
     "slide_type": "slide"
    }
   },
   "source": [
    "**Question 8 :** Rappeler la formule de la projection sur le convexe $\\{x, \\Phi  \\cdot \\Psi  \\cdot z =y \\}$ vue en cours."
   ]
  },
  {
   "cell_type": "markdown",
   "metadata": {
    "slideshow": {
     "slide_type": "fragment"
    }
   },
   "source": [
    "**Question 9 :** Résoudre ce problème par l'algorithme de sous-gradient projeté et finaliser le calcul de la solution."
   ]
  },
  {
   "cell_type": "code",
   "execution_count": null,
   "metadata": {
    "slideshow": {
     "slide_type": "slide"
    }
   },
   "outputs": [],
   "source": [
    "z = zeros(k^2,1); \n",
    "i=0;\n",
    "choix_pas = 1; # 1 cas a, 2 cas b, 3 cas c\n",
    "\n",
    "##Initialisation (possible)\n",
    "## A compléter\n",
    "\n",
    "## Fin à compléter\n",
    "\n",
    "while i <= 1000\n",
    "    i = i + 1; \n",
    "    ## A compléter\n",
    "    \n",
    "    ## Fin à compléter\n",
    "end"
   ]
  },
  {
   "cell_type": "code",
   "execution_count": null,
   "metadata": {
    "slideshow": {
     "slide_type": "subslide"
    }
   },
   "outputs": [],
   "source": [
    "x3 = my_function(n,k,z);\n",
    "imhsv = colorview(Gray,float(x3));\n",
    "tmp =@view imhsv[:,:]"
   ]
  },
  {
   "cell_type": "code",
   "execution_count": null,
   "metadata": {},
   "outputs": [],
   "source": []
  },
  {
   "cell_type": "code",
   "execution_count": null,
   "metadata": {},
   "outputs": [],
   "source": []
  },
  {
   "cell_type": "code",
   "execution_count": null,
   "metadata": {},
   "outputs": [],
   "source": []
  }
 ],
 "metadata": {
  "anaconda-cloud": {},
  "celltoolbar": "Slideshow",
  "kernelspec": {
   "display_name": "Julia 1.5.2",
   "language": "julia",
   "name": "julia-1.5"
  },
  "language_info": {
   "file_extension": ".jl",
   "mimetype": "application/julia",
   "name": "julia",
   "version": "1.5.2"
  }
 },
 "nbformat": 4,
 "nbformat_minor": 1
}
