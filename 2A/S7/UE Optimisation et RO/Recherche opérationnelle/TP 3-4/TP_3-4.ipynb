{
 "cells": [
  {
   "cell_type": "markdown",
   "metadata": {},
   "source": [
    "<center>\n",
    "<h1> TP 3-4 de Recherche Opérationnelle </h1>\n",
    "<h1> Année 2020-2021 - 2e année département Sciences du Numérique </h1>\n",
    "<h1> Noms: Sajid - Wissad </h1>\n",
    "<h1> Prénoms: Badr - Mehdi </h1>    \n",
    "</center>"
   ]
  },
  {
   "cell_type": "markdown",
   "metadata": {},
   "source": [
    "\n",
    "# 1- Programmation dynamique avec Bellman-Ford"
   ]
  },
  {
   "cell_type": "markdown",
   "metadata": {},
   "source": [
    "## 1.1 Calcul du plus court chemin entre deux sommets d’un graphe"
   ]
  },
  {
   "cell_type": "markdown",
   "metadata": {},
   "source": [
    "### Implantation :"
   ]
  },
  {
   "cell_type": "code",
   "execution_count": 3,
   "metadata": {},
   "outputs": [],
   "source": [
    "function bellman_ford_court_chemin(graphe, source)\n",
    "  n = size(graphe)[1]\n",
    "  fk = zeros(n)\n",
    "  fk_1 = zeros(n)\n",
    "\n",
    "  preds = listpred(graphe)\n",
    "  pred = zeros(n)\n",
    "\n",
    "  for i in 1:n\n",
    "    fk_1[i] = Inf\n",
    "  end # for\n",
    "  fk_1[source] = 0\n",
    "  \n",
    "  # Boucle\n",
    "  for k in 1:n\n",
    "    fk = copy(fk_1)\n",
    "    for j in 1:n\n",
    "      for i in preds[j]\n",
    "        if (fk[i] + graphe[i, j] < fk[j])\n",
    "          fk_1[j] = fk[i] + graphe[i, j]\n",
    "          pred[j] = i\n",
    "        end # if\n",
    "      end # for\n",
    "    end #for\n",
    "    \n",
    "    if fk_1 == fk\n",
    "      break\n",
    "    end # if\n",
    "  end #for\n",
    "  pred[source] = source\n",
    "\n",
    "  return fk,pred\n",
    "end\n",
    "  \n",
    "function listpred(graphe)\n",
    "    n = size(graphe)[1]\n",
    "    preds = []\n",
    "    for i in 1:n\n",
    "        append!(preds,[[]])\n",
    "    end\n",
    "    for i in 1:n\n",
    "        for j in 1:n\n",
    "            if graphe[i,j] != 0\n",
    "                append!(preds[j],[i])\n",
    "            end # if\n",
    "        end # for\n",
    "    end # for\n",
    "    return preds\n",
    "end;"
   ]
  },
  {
   "cell_type": "markdown",
   "metadata": {},
   "source": [
    "### Test :"
   ]
  },
  {
   "cell_type": "code",
   "execution_count": 4,
   "metadata": {},
   "outputs": [
    {
     "name": "stdout",
     "output_type": "stream",
     "text": [
      "A -> A = 0.0 passant par A\n",
      "A -> B = 3.0 passant par A\n",
      "A -> C = 7.0 passant par B\n",
      "A -> D = 9.0 passant par C\n",
      "A -> E = 5.0 passant par A\n",
      "A -> F = 12.0 passant par D\n",
      "Le chemin à suivre est : A -> B -> C -> D -> F"
     ]
    }
   ],
   "source": [
    "function Resultat(f,source,pred,couple,arrive)\n",
    "    for i in 1:length(f)\n",
    "      println(couple[Int(source)],\" -> \",couple[i],\" = \", f[i],\" passant par \",couple[Int(pred[i])])\n",
    "    end #for\n",
    "    i = arrive\n",
    "    list = [couple[arrive]]\n",
    "    while i!=source \n",
    "      append!(list, [couple[Int(pred[i])]])\n",
    "      i = Int(pred[i])\n",
    "    end\n",
    "    print(\"Le chemin à suivre est : \",list[length(list)])\n",
    "    for j in 1:length(list)-1\n",
    "      print(\" -> \",list[length(list)-j])\n",
    "    end\n",
    "end\n",
    "  \n",
    "# Test\n",
    "graphe = [0 3 0 0 5 0;\n",
    "        0 0 4 0 0 0;\n",
    "        0 0 0 2 0 0;\n",
    "        0 0 0 0 0 3;\n",
    "        0 -1 0 9 0 0;\n",
    "        0 0 0 0 0 0]\n",
    "couple = [\"A\",\"B\",\"C\",\"D\",\"E\",\"F\"]\n",
    "\n",
    "f,pred = bellman_ford_court_chemin(graphe,1)\n",
    "Resultat(f,1,pred,couple,6)"
   ]
  },
  {
   "cell_type": "markdown",
   "metadata": {},
   "source": [
    "##  1.2 Calcul du plus long chemin entre deux sommets d’un graphe"
   ]
  },
  {
   "cell_type": "markdown",
   "metadata": {},
   "source": [
    "### Implantation :"
   ]
  },
  {
   "cell_type": "code",
   "execution_count": 7,
   "metadata": {},
   "outputs": [],
   "source": [
    "function bellman_ford_long_chemin(graphes, source)\n",
    "    n = size(graphes)[1]\n",
    "    fk = zeros(n)\n",
    "    fk_1 = zeros(n)\n",
    "  \n",
    "    preds = listpred(graphes)\n",
    "    pred = zeros(n)\n",
    "    graphe = -graphes\n",
    "\n",
    "    for i in 1:n\n",
    "      fk_1[i] = Inf\n",
    "    end # for\n",
    "    fk_1[source] = -0.\n",
    "  \n",
    "  # Boucle\n",
    "  for k in 1:n\n",
    "    fk = copy(fk_1)\n",
    "    for j in 1:n\n",
    "      for i in preds[j]\n",
    "          if (fk[i] + graphe[i, j] < fk[j])\n",
    "          fk_1[j] = fk[i] + graphe[i, j]\n",
    "          pred[j] = i\n",
    "          end # if\n",
    "      end # for\n",
    "    end #for\n",
    "\n",
    "    if fk_1 == fk\n",
    "      break\n",
    "    end # if\n",
    "  end #for\n",
    "\n",
    "  pred[source] = source\n",
    "  fk = -fk\n",
    "\n",
    "  return fk,pred\n",
    "\n",
    "end\n",
    "  \n",
    "function listpred(graphe)\n",
    "    n = size(graphe)[1]\n",
    "    preds = []\n",
    "    for i in 1:n\n",
    "        append!(preds,[[]])\n",
    "    end\n",
    "    for i in 1:n\n",
    "        for j in 1:n\n",
    "            if graphe[i,j] != 0\n",
    "                append!(preds[j],[i])\n",
    "            end # if\n",
    "        end # for\n",
    "    end # for\n",
    "    return preds\n",
    "end;"
   ]
  },
  {
   "cell_type": "markdown",
   "metadata": {},
   "source": [
    "### Test :"
   ]
  },
  {
   "cell_type": "code",
   "execution_count": 8,
   "metadata": {},
   "outputs": [
    {
     "name": "stdout",
     "output_type": "stream",
     "text": [
      "A -> A = 0.0 passant par A\n",
      "A -> B = 4.0 passant par E\n",
      "A -> C = 8.0 passant par B\n",
      "A -> D = 14.0 passant par E\n",
      "A -> E = 5.0 passant par A\n",
      "A -> F = 17.0 passant par D\n",
      "Le chemin à suivre est : A -> E -> D -> F"
     ]
    }
   ],
   "source": [
    "# fonction d'affichage\n",
    "function Resultat(f,source,pred,couple,arrive)\n",
    "  for i in 1:length(f)\n",
    "    println(couple[Int(source)],\" -> \",couple[i],\" = \", f[i],\" passant par \",couple[Int(pred[i])])\n",
    "  end #for\n",
    "  i = arrive\n",
    "  list = [couple[arrive]]\n",
    "  while i!=source \n",
    "    append!(list, [couple[Int(pred[i])]])\n",
    "    i = Int(pred[i])\n",
    "  end\n",
    "  print(\"Le chemin à suivre est : \",list[length(list)])\n",
    "  for j in 1:length(list)-1\n",
    "    print(\" -> \",list[length(list)-j])\n",
    "  end\n",
    "\n",
    "end\n",
    "\n",
    "# Test\n",
    "graphe = [0 3 0 0 5 0;\n",
    "          0 0 4 0 0 0;\n",
    "          0 0 0 2 0 0;\n",
    "          0 0 0 0 0 3;\n",
    "          0 -1 0 9 0 0;\n",
    "          0 0 0 0 0 0]\n",
    "couple = [\"A\",\"B\",\"C\",\"D\",\"E\",\"F\"]\n",
    "\n",
    "f,pred = bellman_ford_long_chemin(graphe,1)\n",
    "Resultat(f,1,pred,couple,6)"
   ]
  },
  {
   "cell_type": "markdown",
   "metadata": {},
   "source": [
    "# 2 Extensions et adaptations"
   ]
  },
  {
   "cell_type": "markdown",
   "metadata": {},
   "source": [
    "## 2.1 Construction d’un réseau de transmission à vitesse maximale"
   ]
  },
  {
   "cell_type": "markdown",
   "metadata": {},
   "source": [
    "### Implantation :"
   ]
  },
  {
   "cell_type": "code",
   "execution_count": 9,
   "metadata": {},
   "outputs": [],
   "source": [
    "function bellman_ford_vitesse(graphe, source)\n",
    "  n = size(graphe)[1]\n",
    "  fk = zeros(n)\n",
    "  fk_1 = zeros(n)\n",
    "  pred = zeros(n)\n",
    "\n",
    "  preds = listpred(graphe)\n",
    "  maxk = zeros(n)\n",
    "  \n",
    "  for i in 1:n\n",
    "    fk[i] = -Inf\n",
    "  end # for\n",
    "  fk[source] = Inf\n",
    "  \n",
    "  # Boucle\n",
    "    for k in 1:n\n",
    "      fk_1 = copy(fk)\n",
    "      for i in 1:n\n",
    "        for j in preds[i]\n",
    "          if min(graphe[i,j], fk_1[j]) > maxk[i]\n",
    "            maxk[i] = min(graphe[i,j], fk_1[j])\n",
    "            pred[i] = j\n",
    "          end # if\n",
    "        end # for\n",
    "        fk[i] = maxk[i]\n",
    "      end #for\n",
    "\n",
    "      if fk_1 == fk\n",
    "        break\n",
    "      end # if\n",
    "    end #for\n",
    "  \n",
    "    return fk, pred\n",
    "\n",
    "end # function\n",
    "  \n",
    "function listpred(graphe)\n",
    "    n = size(graphe)[1]\n",
    "    preds = []\n",
    "    for i in 1:n\n",
    "        append!(preds,[[]])\n",
    "    end\n",
    "    for i in 1:n\n",
    "        for j in 1:n\n",
    "            if graphe[i,j] != 0\n",
    "                append!(preds[j],[i])\n",
    "            end # if\n",
    "        end # for\n",
    "    end # for\n",
    "    return preds\n",
    "end;"
   ]
  },
  {
   "cell_type": "markdown",
   "metadata": {},
   "source": [
    "### Test :"
   ]
  },
  {
   "cell_type": "code",
   "execution_count": 11,
   "metadata": {},
   "outputs": [
    {
     "name": "stdout",
     "output_type": "stream",
     "text": [
      "P -> P = 5.0 passant par 1\n",
      "P -> 1 = 5.0 passant par P\n",
      "P -> 2 = 4.0 passant par 1\n",
      "P -> 3 = 2.0 passant par 5\n",
      "P -> 4 = 3.0 passant par 6\n",
      "P -> 5 = 3.0 passant par 4\n",
      "P -> 6 = 3.0 passant par P\n"
     ]
    }
   ],
   "source": [
    "# fonction d'affichage\n",
    "function Resultat(f,source,couple,pred)\n",
    "  for i in 1:length(f)\n",
    "    println(couple[Int(source)],\" -> \",couple[i],\" = \", f[i], \" passant par \", couple[Int(pred[i])])\n",
    "  end #for\n",
    "end\n",
    "  \n",
    "# Test\n",
    "graphe = [0 5 0 0 1 0 3;\n",
    "          5 0 4 0 0 0 0;\n",
    "          0 4 0 1 2 2 0;\n",
    "          0 0 1 0 0 2 0;\n",
    "          1 0 2 0 0 3 5;\n",
    "          0 0 2 2 3 0 0;\n",
    "          3 0 0 0 5 0 0]\n",
    "\n",
    "couple = [\"P\",\"1\",\"2\",\"3\",\"4\",\"5\",\"6\"]\n",
    "  \n",
    "m,p = bellman_ford_vitesse(graphe,1)\n",
    "Resultat(m,1,couple,p)"
   ]
  },
  {
   "cell_type": "markdown",
   "metadata": {},
   "source": [
    "## 2.2 Fiabilité de procédé de fabrication de semi-conducteurs"
   ]
  },
  {
   "cell_type": "markdown",
   "metadata": {},
   "source": [
    "### En utilisant le problème de plus long chemin"
   ]
  },
  {
   "cell_type": "markdown",
   "metadata": {},
   "source": [
    "#### Implantation :"
   ]
  },
  {
   "cell_type": "code",
   "execution_count": 12,
   "metadata": {},
   "outputs": [],
   "source": [
    "function bellman_ford_plus_sur(graphe, source)\n",
    "    log_graphe = log.(graphe)\n",
    "    f, pred = bellman_ford_long_chemin(log_graphe, source)\n",
    "    return exp.(f), pred\n",
    "end; # function"
   ]
  },
  {
   "cell_type": "markdown",
   "metadata": {},
   "source": [
    "#### Test :"
   ]
  },
  {
   "cell_type": "code",
   "execution_count": 13,
   "metadata": {},
   "outputs": [
    {
     "name": "stdout",
     "output_type": "stream",
     "text": [
      "La probabilité de succès est : 0.904 (9.636% de déchets)\n",
      "Le procédé de fabrication le plus sûr est : M -> S1 -> A1 -> D1 -> Fg -> P"
     ]
    }
   ],
   "source": [
    "# fonction d'affichage\n",
    "function Resultat(f,source,pred,couple,arrive)\n",
    "    x = (1-f[arrive])*100\n",
    "    poucentage_dechets = affichage(x)\n",
    "    probabilite = affichage(f[arrive])\n",
    "    println(\"La probabilité de succès est : \", probabilite,\" (\",poucentage_dechets,\"% de déchets)\")\n",
    "    i = arrive\n",
    "    list = [couple[arrive]]\n",
    "    while i!=source \n",
    "        append!(list, [couple[Int(pred[i])]])\n",
    "        i = Int(pred[i])\n",
    "    end # while\n",
    "\n",
    "    print(\"Le procédé de fabrication le plus sûr est : \",list[length(list)])\n",
    "    for j in 1:length(list)-1\n",
    "        print(\" -> \",list[length(list)-j])\n",
    "    end # for\n",
    "\n",
    "end # function\n",
    "\n",
    "function affichage(x)\n",
    "    return x - (x*1000 - round(x*1000))/1000\n",
    "end # function\n",
    "\n",
    "# Test\n",
    "graphe = [0 0.98 0.97 0.99 0 0 0 0 0 0 0 0 0;\n",
    "          0 0 0 0 0.96 0.95 0 0 0 0 0 0 0;\n",
    "          0 0 0 0 0 0.97 0.98 0 0 0 0 0 0;\n",
    "          0 0 0 0 0 0 0.95 0.93 0 0 0 0 0;\n",
    "          0 0 0 0 0 0 0 0 0.99 0 0 0 0;\n",
    "          0 0 0 0 0 0 0 0 0.96 0 0 0 0;\n",
    "          0 0 0 0 0 0 0 0 0.97 0.98 0 0 0;\n",
    "          0 0 0 0 0 0 0 0 0 0.99 0 0 0;\n",
    "          0 0 0 0 0 0 0 0 0 0 0.98 0.99 0;\n",
    "          0 0 0 0 0 0 0 0 0 0 0.96 0.99 0;\n",
    "          0 0 0 0 0 0 0 0 0 0 0 0 0.99;\n",
    "          0 0 0 0 0 0 0 0 0 0 0 0 0.93;\n",
    "          0 0 0 0 0 0 0 0 0 0 0 0 0]\n",
    "\n",
    "couple = [\"M\",\"S1\",\"S2\",\"S3\",\"A1\",\"A2\",\"A3\",\"A4\",\"D1\",\"D2\",\"Fg\",\"Fx\",\"P\"]\n",
    "\n",
    "f, pred = bellman_ford_plus_sur(graphe,1)\n",
    "Resultat(f,1,pred,couple,13)"
   ]
  },
  {
   "cell_type": "markdown",
   "metadata": {},
   "source": [
    "### En s'adaptant au problème "
   ]
  },
  {
   "cell_type": "markdown",
   "metadata": {},
   "source": [
    "#### Implantation :"
   ]
  },
  {
   "cell_type": "code",
   "execution_count": 14,
   "metadata": {},
   "outputs": [],
   "source": [
    "function bellman_ford_plus_sur2(graphe, source)\n",
    "    n = size(graphe)[1]\n",
    "    fk = zeros(n)\n",
    "    fk_1 = zeros(n)\n",
    "  \n",
    "    preds = listpred(graphe)\n",
    "    pred = zeros(n)\n",
    "    for i in 1:n\n",
    "      fk_1[i] = -Inf\n",
    "    end # for\n",
    "    fk_1[source] = 1\n",
    "  \n",
    "  # Boucle\n",
    "    for k in 1:n\n",
    "        fk = copy(fk_1)\n",
    "        for j in 1:n\n",
    "            for i in preds[j]\n",
    "                if (fk[i] * graphe[i, j] > fk[j])\n",
    "                    fk_1[j] = fk[i] * graphe[i, j]\n",
    "                    pred[j] = i\n",
    "                end # if\n",
    "            end # for\n",
    "        end #for\n",
    "        if fk_1 == fk\n",
    "            break\n",
    "        end # if\n",
    "    end #for\n",
    "    pred[source] = source\n",
    "\n",
    "    return fk,pred\n",
    "\n",
    "end # function\n",
    "\n",
    "  \n",
    "function listpred(graphe)\n",
    "    n = size(graphe)[1]\n",
    "    preds = []\n",
    "    for i in 1:n\n",
    "        append!(preds,[[]])\n",
    "    end\n",
    "    for i in 1:n\n",
    "        for j in 1:n\n",
    "            if graphe[i,j] != 0\n",
    "                append!(preds[j],[i])\n",
    "            end # if\n",
    "        end # for\n",
    "    end # for\n",
    "    return preds\n",
    "end;"
   ]
  },
  {
   "cell_type": "markdown",
   "metadata": {},
   "source": [
    "#### Test :"
   ]
  },
  {
   "cell_type": "code",
   "execution_count": 15,
   "metadata": {},
   "outputs": [
    {
     "name": "stdout",
     "output_type": "stream",
     "text": [
      "La probabilité de succès est : 0.904 (9.636% de déchets)\n",
      "Le procédé de fabrication le plus sûr est : M -> S1 -> A1 -> D1 -> Fg -> P"
     ]
    }
   ],
   "source": [
    "# fonction d'affichage\n",
    "function Resultat(f,source,pred,couple,arrive)\n",
    "    x = (1-f[arrive])*100\n",
    "    poucentage_dechets = affichage(x)\n",
    "    probabilite = affichage(f[arrive])\n",
    "    println(\"La probabilité de succès est : \", probabilite,\" (\",poucentage_dechets,\"% de déchets)\")\n",
    "    i = arrive\n",
    "    list = [couple[arrive]]\n",
    "    while i!=source \n",
    "        append!(list, [couple[Int(pred[i])]])\n",
    "        i = Int(pred[i])\n",
    "    end # while\n",
    "\n",
    "    print(\"Le procédé de fabrication le plus sûr est : \",list[length(list)])\n",
    "    for j in 1:length(list)-1\n",
    "        print(\" -> \",list[length(list)-j])\n",
    "    end # for\n",
    "\n",
    "end # function\n",
    "\n",
    "function affichage(x)\n",
    "    return x - (x*1000 - round(x*1000))/1000\n",
    "end # function\n",
    "\n",
    "\n",
    "# Test\n",
    "graphe = [0 0.98 0.97 0.99 0 0 0 0 0 0 0 0 0;\n",
    "          0 0 0 0 0.96 0.95 0 0 0 0 0 0 0;\n",
    "          0 0 0 0 0 0.97 0.98 0 0 0 0 0 0;\n",
    "          0 0 0 0 0 0 0.95 0.93 0 0 0 0 0;\n",
    "          0 0 0 0 0 0 0 0 0.99 0 0 0 0;\n",
    "          0 0 0 0 0 0 0 0 0.96 0 0 0 0;\n",
    "          0 0 0 0 0 0 0 0 0.97 0.98 0 0 0;\n",
    "          0 0 0 0 0 0 0 0 0 0.99 0 0 0;\n",
    "          0 0 0 0 0 0 0 0 0 0 0.98 0.99 0;\n",
    "          0 0 0 0 0 0 0 0 0 0 0.96 0.99 0;\n",
    "          0 0 0 0 0 0 0 0 0 0 0 0 0.99;\n",
    "          0 0 0 0 0 0 0 0 0 0 0 0 0.93;\n",
    "          0 0 0 0 0 0 0 0 0 0 0 0 0]\n",
    "\n",
    "couple = [\"M\",\"S1\",\"S2\",\"S3\",\"A1\",\"A2\",\"A3\",\"A4\",\"D1\",\"D2\",\"Fg\",\"Fx\",\"P\"]\n",
    "  \n",
    "f,pred = bellman_ford_plus_sur2(graphe,1)\n",
    "Resultat(f,1,pred,couple,13)"
   ]
  }
 ],
 "metadata": {
  "kernelspec": {
   "display_name": "Julia 1.5.2",
   "language": "julia",
   "name": "julia-1.5"
  },
  "language_info": {
   "file_extension": ".jl",
   "mimetype": "application/julia",
   "name": "julia",
   "version": "1.5.2"
  }
 },
 "nbformat": 4,
 "nbformat_minor": 4
}
